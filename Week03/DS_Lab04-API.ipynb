{
 "metadata": {
  "celltoolbar": "Slideshow",
  "name": "",
  "signature": "sha256:2ab67670bf2cb59993293dff956dfada85e573a72bc2af48e5aaa65769b8f6b7"
 },
 "nbformat": 3,
 "nbformat_minor": 0,
 "worksheets": [
  {
   "cells": [
    {
     "cell_type": "markdown",
     "metadata": {
      "slideshow": {
       "slide_type": "slide"
      }
     },
     "source": [
      "Lab\n",
      "===================\n",
      "Twitter & MongoDB\n",
      "-------------------\n",
      "Alessandro D. Gagliardi"
     ]
    },
    {
     "cell_type": "markdown",
     "metadata": {
      "slideshow": {
       "slide_type": "subslide"
      }
     },
     "source": [
      "Importing Libraries\n",
      "-------------------"
     ]
    },
    {
     "cell_type": "code",
     "collapsed": false,
     "input": [
      "# standard library:\n",
      "import os  \n",
      "\n",
      "from pprint import pprint\n",
      "\n",
      "# other modules:\n",
      "import matplotlib.pyplot as plt\n",
      "import pandas as pd\n",
      "import twitter\n",
      "import yaml\n",
      "\n",
      "from pymongo import MongoClient"
     ],
     "language": "python",
     "metadata": {
      "slideshow": {
       "slide_type": "-"
      }
     },
     "outputs": [],
     "prompt_number": 4
    },
    {
     "cell_type": "markdown",
     "metadata": {
      "slideshow": {
       "slide_type": "slide"
      }
     },
     "source": [
      "Twitter Trends\n",
      "=============="
     ]
    },
    {
     "cell_type": "heading",
     "level": 3,
     "metadata": {
      "slideshow": {
       "slide_type": "subslide"
      }
     },
     "source": [
      "Connect to Twitter:"
     ]
    },
    {
     "cell_type": "code",
     "collapsed": false,
     "input": [
      "credentials = yaml.load(open(os.path.expanduser('~/api_cred.yml')))\n",
      "\n",
      "auth = twitter.oauth.OAuth(credentials['ACCESS_TOKEN'], \n",
      "                           credentials['ACCESS_TOKEN_SECRET'],\n",
      "                           credentials['API_KEY'],\n",
      "                           credentials['API_SECRET'])\n",
      "\n",
      "twitter_api = twitter.Twitter(auth=auth)"
     ],
     "language": "python",
     "metadata": {
      "slideshow": {
       "slide_type": "-"
      }
     },
     "outputs": [],
     "prompt_number": 5
    },
    {
     "cell_type": "code",
     "collapsed": false,
     "input": [
      "# The Yahoo! Where On Earth ID for the entire world is 1.\n",
      "# See https://dev.twitter.com/docs/api/1.1/get/trends/place and\n",
      "# http://developer.yahoo.com/geo/geoplanet/\n",
      "\n",
      "WORLD_WOE_ID = 1\n",
      "US_WOE_ID = 23424977\n",
      "\n",
      "# Prefix ID with the underscore for query string parameterization.\n",
      "# Without the underscore, the twitter package appends the ID value\n",
      "# to the URL itself as a special case keyword argument.\n",
      "\n",
      "world_trends = twitter_api.trends.place(_id=WORLD_WOE_ID)\n",
      "us_trends = twitter_api.trends.place(_id=US_WOE_ID)\n",
      "\n",
      "pprint(world_trends)"
     ],
     "language": "python",
     "metadata": {
      "slideshow": {
       "slide_type": "slide"
      }
     },
     "outputs": [
      {
       "output_type": "stream",
       "stream": "stdout",
       "text": [
        "[{u'as_of': u'2014-04-29T01:02:38Z',\n",
        "  u'created_at': u'2014-04-29T00:58:16Z',\n",
        "  u'locations': [{u'name': u'Worldwide', u'woeid': 1}],\n",
        "  u'trends': [{u'name': u'#BieberStoleFromParamore',\n",
        "               u'promoted_content': None,\n",
        "               u'query': u'%23BieberStoleFromParamore',\n",
        "               u'url': u'http://twitter.com/search?q=%23BieberStoleFromParamore'},\n",
        "              {u'name': u'#UnaVezMeConquistaron',\n",
        "               u'promoted_content': None,\n",
        "               u'query': u'%23UnaVezMeConquistaron',\n",
        "               u'url': u'http://twitter.com/search?q=%23UnaVezMeConquistaron'},\n",
        "              {u'name': u'#bbwlareunion',\n",
        "               u'promoted_content': None,\n",
        "               u'query': u'%23bbwlareunion',\n",
        "               u'url': u'http://twitter.com/search?q=%23bbwlareunion'},\n",
        "              {u'name': u'#dwtsshirtoff',\n",
        "               u'promoted_content': None,\n",
        "               u'query': u'%23dwtsshirtoff',\n",
        "               u'url': u'http://twitter.com/search?q=%23dwtsshirtoff'},\n",
        "              {u'name': u'#MikeScott',\n",
        "               u'promoted_content': None,\n",
        "               u'query': u'%23MikeScott',\n",
        "               u'url': u'http://twitter.com/search?q=%23MikeScott'},\n",
        "              {u'name': u'Zayn Is An Angel',\n",
        "               u'promoted_content': None,\n",
        "               u'query': u'%22Zayn+Is+An+Angel%22',\n",
        "               u'url': u'http://twitter.com/search?q=%22Zayn+Is+An+Angel%22'},\n",
        "              {u'name': u'Now Sundy',\n",
        "               u'promoted_content': None,\n",
        "               u'query': u'%22Now+Sundy%22',\n",
        "               u'url': u'http://twitter.com/search?q=%22Now+Sundy%22'},\n",
        "              {u'name': u\"Who's in New York\",\n",
        "               u'promoted_content': None,\n",
        "               u'query': u'%22Who%27s+in+New+York%22',\n",
        "               u'url': u'http://twitter.com/search?q=%22Who%27s+in+New+York%22'},\n",
        "              {u'name': u'No Naya No Glee',\n",
        "               u'promoted_content': None,\n",
        "               u'query': u'%22No+Naya+No+Glee%22',\n",
        "               u'url': u'http://twitter.com/search?q=%22No+Naya+No+Glee%22'},\n",
        "              {u'name': u'Harry in Cuzco',\n",
        "               u'promoted_content': None,\n",
        "               u'query': u'%22Harry+in+Cuzco%22',\n",
        "               u'url': u'http://twitter.com/search?q=%22Harry+in+Cuzco%22'}]}]\n"
       ]
      }
     ],
     "prompt_number": 6
    },
    {
     "cell_type": "code",
     "collapsed": false,
     "input": [
      "pprint(us_trends)"
     ],
     "language": "python",
     "metadata": {
      "slideshow": {
       "slide_type": "subslide"
      }
     },
     "outputs": [
      {
       "output_type": "stream",
       "stream": "stdout",
       "text": [
        "[{u'as_of': u'2014-04-29T01:02:38Z',\n",
        "  u'created_at': u'2014-04-29T00:58:16Z',\n",
        "  u'locations': [{u'name': u'United States', u'woeid': 23424977}],\n",
        "  u'trends': [{u'name': u'#bbwlareunion',\n",
        "               u'promoted_content': None,\n",
        "               u'query': u'%23bbwlareunion',\n",
        "               u'url': u'http://twitter.com/search?q=%23bbwlareunion'},\n",
        "              {u'name': u'#dwtsshirtoff',\n",
        "               u'promoted_content': None,\n",
        "               u'query': u'%23dwtsshirtoff',\n",
        "               u'url': u'http://twitter.com/search?q=%23dwtsshirtoff'},\n",
        "              {u'name': u'Now Sundy',\n",
        "               u'promoted_content': None,\n",
        "               u'query': u'%22Now+Sundy%22',\n",
        "               u'url': u'http://twitter.com/search?q=%22Now+Sundy%22'},\n",
        "              {u'name': u'#MikeScott',\n",
        "               u'promoted_content': None,\n",
        "               u'query': u'%23MikeScott',\n",
        "               u'url': u'http://twitter.com/search?q=%23MikeScott'},\n",
        "              {u'name': u'#FastNLive',\n",
        "               u'promoted_content': None,\n",
        "               u'query': u'%23FastNLive',\n",
        "               u'url': u'http://twitter.com/search?q=%23FastNLive'},\n",
        "              {u'name': u\"Who's in New York\",\n",
        "               u'promoted_content': None,\n",
        "               u'query': u'%22Who%27s+in+New+York%22',\n",
        "               u'url': u'http://twitter.com/search?q=%22Who%27s+in+New+York%22'},\n",
        "              {u'name': u'#IfICalledACoach',\n",
        "               u'promoted_content': None,\n",
        "               u'query': u'%23IfICalledACoach',\n",
        "               u'url': u'http://twitter.com/search?q=%23IfICalledACoach'},\n",
        "              {u'name': u'If Malaysia',\n",
        "               u'promoted_content': None,\n",
        "               u'query': u'%22If+Malaysia%22',\n",
        "               u'url': u'http://twitter.com/search?q=%22If+Malaysia%22'},\n",
        "              {u'name': u'Best Kourtney Kardashian',\n",
        "               u'promoted_content': None,\n",
        "               u'query': u'%22Best+Kourtney+Kardashian%22',\n",
        "               u'url': u'http://twitter.com/search?q=%22Best+Kourtney+Kardashian%22'},\n",
        "              {u'name': u\"Titus O'Neil\",\n",
        "               u'promoted_content': None,\n",
        "               u'query': u'%22Titus+O%27Neil%22',\n",
        "               u'url': u'http://twitter.com/search?q=%22Titus+O%27Neil%22'}]}]\n"
       ]
      }
     ],
     "prompt_number": 7
    },
    {
     "cell_type": "heading",
     "level": 3,
     "metadata": {
      "slideshow": {
       "slide_type": "subslide"
      }
     },
     "source": [
      "Do any of these trends intersect?"
     ]
    },
    {
     "cell_type": "code",
     "collapsed": false,
     "input": [
      "world_trends_set = set([trend['name'] for trends in world_trends\n",
      "                        for trend in trends['trends']])\n",
      "\n",
      "us_trends_set = set([trend['name'] for trends in us_trends\n",
      "                     for trend in trends['trends']]) \n",
      "\n",
      "world_trends_set.intersection(us_trends_set)"
     ],
     "language": "python",
     "metadata": {
      "slideshow": {
       "slide_type": "fragment"
      }
     },
     "outputs": [
      {
       "metadata": {},
       "output_type": "pyout",
       "prompt_number": 8,
       "text": [
        "{u'#MikeScott',\n",
        " u'#bbwlareunion',\n",
        " u'#dwtsshirtoff',\n",
        " u'Now Sundy',\n",
        " u\"Who's in New York\"}"
       ]
      }
     ],
     "prompt_number": 8
    },
    {
     "cell_type": "markdown",
     "metadata": {
      "slideshow": {
       "slide_type": "slide"
      }
     },
     "source": [
      "Twitter Statuses\n",
      "================"
     ]
    },
    {
     "cell_type": "code",
     "collapsed": false,
     "input": [
      "q = world_trends[0]['trends'][0]['name']\n",
      "\n",
      "count = 100\n",
      "\n",
      "# See https://dev.twitter.com/docs/api/1.1/get/search/tweets\n",
      "\n",
      "search_results = twitter_api.search.tweets(q=q, count=count)\n",
      "\n",
      "statuses = search_results['statuses']"
     ],
     "language": "python",
     "metadata": {
      "slideshow": {
       "slide_type": "fragment"
      }
     },
     "outputs": [],
     "prompt_number": 9
    },
    {
     "cell_type": "code",
     "collapsed": false,
     "input": [
      "len(statuses)"
     ],
     "language": "python",
     "metadata": {
      "slideshow": {
       "slide_type": "fragment"
      }
     },
     "outputs": [
      {
       "metadata": {},
       "output_type": "pyout",
       "prompt_number": 10,
       "text": [
        "100"
       ]
      }
     ],
     "prompt_number": 10
    },
    {
     "cell_type": "heading",
     "level": 3,
     "metadata": {
      "slideshow": {
       "slide_type": "subslide"
      }
     },
     "source": [
      "More?"
     ]
    },
    {
     "cell_type": "code",
     "collapsed": false,
     "input": [
      "search_results['search_metadata'].get('next_results')"
     ],
     "language": "python",
     "metadata": {
      "slideshow": {
       "slide_type": "fragment"
      }
     },
     "outputs": [
      {
       "metadata": {},
       "output_type": "pyout",
       "prompt_number": 11,
       "text": [
        "u'?max_id=460946986934751232&q=%23BieberStoleFromParamore&count=100&include_entities=1'"
       ]
      }
     ],
     "prompt_number": 11
    },
    {
     "cell_type": "code",
     "collapsed": false,
     "input": [
      "if 'next_results' in search_results['search_metadata']:\n",
      "    next_results = search_results['search_metadata']['next_results']\n",
      "    kwargs = dict([ kv.split('=') for kv in next_results[1:].split(\"&\") ])\n",
      "    search_results = twitter_api.search.tweets(**kwargs)\n",
      "    statuses += search_results['statuses']\n",
      "\n",
      "len(statuses)"
     ],
     "language": "python",
     "metadata": {
      "slideshow": {
       "slide_type": "fragment"
      }
     },
     "outputs": [
      {
       "metadata": {},
       "output_type": "pyout",
       "prompt_number": 12,
       "text": [
        "200"
       ]
      }
     ],
     "prompt_number": 12
    },
    {
     "cell_type": "markdown",
     "metadata": {
      "slideshow": {
       "slide_type": "slide"
      }
     },
     "source": [
      "Mongo\n",
      "====="
     ]
    },
    {
     "cell_type": "markdown",
     "metadata": {
      "slideshow": {
       "slide_type": "subslide"
      }
     },
     "source": [
      "from the command line:\n",
      "```bash\n",
      "$ mkdir -p data/db\n",
      "$ mongod --dbpath data/db\n",
      "```"
     ]
    },
    {
     "cell_type": "heading",
     "level": 3,
     "metadata": {
      "slideshow": {
       "slide_type": "slide"
      }
     },
     "source": [
      "Connect to our Mongo database management server (DBMS):"
     ]
    },
    {
     "cell_type": "code",
     "collapsed": false,
     "input": [
      "c = MongoClient()"
     ],
     "language": "python",
     "metadata": {
      "slideshow": {
       "slide_type": "fragment"
      }
     },
     "outputs": [],
     "prompt_number": 13
    },
    {
     "cell_type": "heading",
     "level": 4,
     "metadata": {
      "slideshow": {
       "slide_type": "fragment"
      }
     },
     "source": [
      "Create a database called `twitter`:"
     ]
    },
    {
     "cell_type": "code",
     "collapsed": false,
     "input": [
      "db = c.twitter"
     ],
     "language": "python",
     "metadata": {
      "slideshow": {
       "slide_type": "fragment"
      }
     },
     "outputs": [],
     "prompt_number": 14
    },
    {
     "cell_type": "markdown",
     "metadata": {
      "slideshow": {
       "slide_type": "notes"
      }
     },
     "source": [
      "##### Yes, it's that easy."
     ]
    },
    {
     "cell_type": "heading",
     "level": 4,
     "metadata": {
      "slideshow": {
       "slide_type": "slide"
      }
     },
     "source": [
      "Insert the results we pulled from Twitter and store them as a document in a collection named `tweets`:"
     ]
    },
    {
     "cell_type": "code",
     "collapsed": false,
     "input": [
      "statuses_ids = db.tweets.insert(statuses)\n",
      "statuses_ids[:5]"
     ],
     "language": "python",
     "metadata": {
      "slideshow": {
       "slide_type": "fragment"
      }
     },
     "outputs": [
      {
       "metadata": {},
       "output_type": "pyout",
       "prompt_number": 15,
       "text": [
        "[ObjectId('535efa315c92ebafda6b2269'),\n",
        " ObjectId('535efa315c92ebafda6b226a'),\n",
        " ObjectId('535efa315c92ebafda6b226b'),\n",
        " ObjectId('535efa315c92ebafda6b226c'),\n",
        " ObjectId('535efa315c92ebafda6b226d')]"
       ]
      }
     ],
     "prompt_number": 15
    },
    {
     "cell_type": "heading",
     "level": 3,
     "metadata": {
      "slideshow": {
       "slide_type": "slide"
      }
     },
     "source": [
      "`ObjectId`s"
     ]
    },
    {
     "cell_type": "markdown",
     "metadata": {
      "slideshow": {
       "slide_type": "fragment"
      }
     },
     "source": [
      "**ObjectId** is a 12-byte **BSON** type, constructed using:\n",
      "\n",
      "-    a 4-byte value representing the seconds since the Unix epoch,\n",
      "-    a 3-byte machine identifier,\n",
      "-    a 2-byte process id, and\n",
      "-    a 3-byte counter, starting with a random value.\n",
      "\n",
      "In MongoDB, documents stored in a collection require a unique `_id` field that acts as a **primary key**. Because ObjectIds are small, most likely unique, and fast to generate, MongoDB uses ObjectIds as the default value for the `_id` field if the `_id` field is not specified. \n",
      "\n",
      "<!--small><i>from http://docs.mongodb.org/manual/reference/object-id/</i></small-->"
     ]
    },
    {
     "cell_type": "markdown",
     "metadata": {
      "slideshow": {
       "slide_type": "notes"
      }
     },
     "source": [
      "Using ObjectIds for the `_id` field provides the following additional benefits:\n",
      "\n",
      "- you can access the insertion time of the ObjectId, using the `.generation_time` property in pymongo. \n",
      "- sorting on an `_id` field that stores ObjectId values is roughly equivalent to sorting by insertion time."
     ]
    },
    {
     "cell_type": "heading",
     "level": 3,
     "metadata": {
      "slideshow": {
       "slide_type": "slide"
      }
     },
     "source": [
      "Test the contents of our database:"
     ]
    },
    {
     "cell_type": "code",
     "collapsed": false,
     "input": [
      "c.database_names()"
     ],
     "language": "python",
     "metadata": {
      "slideshow": {
       "slide_type": "fragment"
      }
     },
     "outputs": [
      {
       "metadata": {},
       "output_type": "pyout",
       "prompt_number": 16,
       "text": [
        "[u'local', u'twitter']"
       ]
      }
     ],
     "prompt_number": 16
    },
    {
     "cell_type": "code",
     "collapsed": false,
     "input": [
      "db = c.twitter\n",
      "db.collection_names()"
     ],
     "language": "python",
     "metadata": {
      "slideshow": {
       "slide_type": "fragment"
      }
     },
     "outputs": [
      {
       "metadata": {},
       "output_type": "pyout",
       "prompt_number": 17,
       "text": [
        "[u'system.indexes', u'tweets', u'us']"
       ]
      }
     ],
     "prompt_number": 17
    },
    {
     "cell_type": "code",
     "collapsed": false,
     "input": [
      "db.tweets.find_one()"
     ],
     "language": "python",
     "metadata": {
      "slideshow": {
       "slide_type": "fragment"
      }
     },
     "outputs": [
      {
       "metadata": {},
       "output_type": "pyout",
       "prompt_number": 18,
       "text": [
        "{u'_id': ObjectId('535881025c92eb3899543650'),\n",
        " u'contributors': None,\n",
        " u'coordinates': None,\n",
        " u'created_at': u'Thu Apr 24 02:58:40 +0000 2014',\n",
        " u'entities': {u'hashtags': [{u'indices': [38, 56],\n",
        "    u'text': u'4DaysUntilProblem'}],\n",
        "  u'symbols': [],\n",
        "  u'urls': [],\n",
        "  u'user_mentions': [{u'id': 34507480,\n",
        "    u'id_str': u'34507480',\n",
        "    u'indices': [0, 13],\n",
        "    u'name': u'Ariana Grande',\n",
        "    u'screen_name': u'ArianaGrande'}]},\n",
        " u'favorite_count': 0,\n",
        " u'favorited': False,\n",
        " u'geo': None,\n",
        " u'id': 459164493495681024L,\n",
        " u'id_str': u'459164493495681024',\n",
        " u'in_reply_to_screen_name': u'ArianaGrande',\n",
        " u'in_reply_to_status_id': None,\n",
        " u'in_reply_to_status_id_str': None,\n",
        " u'in_reply_to_user_id': 34507480,\n",
        " u'in_reply_to_user_id_str': u'34507480',\n",
        " u'lang': u'en',\n",
        " u'metadata': {u'iso_language_code': u'en', u'result_type': u'recent'},\n",
        " u'place': None,\n",
        " u'retweet_count': 0,\n",
        " u'retweeted': False,\n",
        " u'source': u'web',\n",
        " u'text': u\"@ArianaGrande I'M SOOO   EXCITED FOR  #4DaysUntilProblem !! PLEASE ARI FOLLOW ME .\\n.\\n.\\n.\\n.\\n.\\n.\\n..\\n.\\n.\\n.\\n.\\n.\\n.\\n.\\n.\\n..\\n.\\n.\\n.\",\n",
        " u'truncated': False,\n",
        " u'user': {u'contributors_enabled': False,\n",
        "  u'created_at': u'Sat Apr 05 16:24:34 +0000 2014',\n",
        "  u'default_profile': False,\n",
        "  u'default_profile_image': False,\n",
        "  u'description': u'',\n",
        "  u'entities': {u'description': {u'urls': []}},\n",
        "  u'favourites_count': 151,\n",
        "  u'follow_request_sent': False,\n",
        "  u'followers_count': 964,\n",
        "  u'following': False,\n",
        "  u'friends_count': 847,\n",
        "  u'geo_enabled': False,\n",
        "  u'id': 2429143602L,\n",
        "  u'id_str': u'2429143602',\n",
        "  u'is_translation_enabled': False,\n",
        "  u'is_translator': False,\n",
        "  u'lang': u'en',\n",
        "  u'listed_count': 0,\n",
        "  u'location': u'',\n",
        "  u'name': u'FOLLOW ME ARIANA',\n",
        "  u'notifications': False,\n",
        "  u'profile_background_color': u'FFFFFF',\n",
        "  u'profile_background_image_url': u'http://pbs.twimg.com/profile_background_images/459140585731813377/JI4Oqnqq.png',\n",
        "  u'profile_background_image_url_https': u'https://pbs.twimg.com/profile_background_images/459140585731813377/JI4Oqnqq.png',\n",
        "  u'profile_background_tile': True,\n",
        "  u'profile_banner_url': u'https://pbs.twimg.com/profile_banners/2429143602/1398301466',\n",
        "  u'profile_image_url': u'http://pbs.twimg.com/profile_images/459158946851196929/frN59YYU_normal.png',\n",
        "  u'profile_image_url_https': u'https://pbs.twimg.com/profile_images/459158946851196929/frN59YYU_normal.png',\n",
        "  u'profile_link_color': u'C4C0C2',\n",
        "  u'profile_sidebar_border_color': u'FFFFFF',\n",
        "  u'profile_sidebar_fill_color': u'DDEEF6',\n",
        "  u'profile_text_color': u'333333',\n",
        "  u'profile_use_background_image': True,\n",
        "  u'protected': False,\n",
        "  u'screen_name': u'jdbfIops',\n",
        "  u'statuses_count': 2987,\n",
        "  u'time_zone': u'Brasilia',\n",
        "  u'url': None,\n",
        "  u'utc_offset': -10800,\n",
        "  u'verified': False}}"
       ]
      }
     ],
     "prompt_number": 18
    },
    {
     "cell_type": "markdown",
     "metadata": {
      "slideshow": {
       "slide_type": "notes"
      }
     },
     "source": [
      "Notice the `_id` included in the document along with the values we already saw before."
     ]
    },
    {
     "cell_type": "markdown",
     "metadata": {
      "slideshow": {
       "slide_type": "slide"
      }
     },
     "source": [
      "Now that we have our data in MongoDB, we can use some of it's search functionality. For example:"
     ]
    },
    {
     "cell_type": "code",
     "collapsed": false,
     "input": [
      "popular_tweets = db.tweets.find({'retweet_count': {\"$gte\": 3}})\n",
      "popular_tweets.count()"
     ],
     "language": "python",
     "metadata": {
      "slideshow": {
       "slide_type": "fragment"
      }
     },
     "outputs": [
      {
       "metadata": {},
       "output_type": "pyout",
       "prompt_number": 19,
       "text": [
        "239"
       ]
      }
     ],
     "prompt_number": 19
    },
    {
     "cell_type": "markdown",
     "metadata": {
      "slideshow": {
       "slide_type": "slide"
      }
     },
     "source": [
      "Making Sense with Pandas\n",
      "========================"
     ]
    },
    {
     "cell_type": "code",
     "collapsed": false,
     "input": [
      "pd.DataFrame(list(db.tweets.find(fields=['created_at', 'retweet_count', 'favorite_count'])))"
     ],
     "language": "python",
     "metadata": {
      "slideshow": {
       "slide_type": "slide"
      }
     },
     "outputs": [
      {
       "html": [
        "<div style=\"max-height:1000px;max-width:1500px;overflow:auto;\">\n",
        "<table border=\"1\" class=\"dataframe\">\n",
        "  <thead>\n",
        "    <tr style=\"text-align: right;\">\n",
        "      <th></th>\n",
        "      <th>_id</th>\n",
        "      <th>created_at</th>\n",
        "      <th>favorite_count</th>\n",
        "      <th>retweet_count</th>\n",
        "    </tr>\n",
        "  </thead>\n",
        "  <tbody>\n",
        "    <tr>\n",
        "      <th>0 </th>\n",
        "      <td> 535881025c92eb3899543650</td>\n",
        "      <td> Thu Apr 24 02:58:40 +0000 2014</td>\n",
        "      <td> 0</td>\n",
        "      <td>    0</td>\n",
        "    </tr>\n",
        "    <tr>\n",
        "      <th>1 </th>\n",
        "      <td> 535881025c92eb3899543651</td>\n",
        "      <td> Thu Apr 24 02:58:40 +0000 2014</td>\n",
        "      <td> 0</td>\n",
        "      <td>    1</td>\n",
        "    </tr>\n",
        "    <tr>\n",
        "      <th>2 </th>\n",
        "      <td> 535881025c92eb3899543652</td>\n",
        "      <td> Thu Apr 24 02:58:40 +0000 2014</td>\n",
        "      <td> 0</td>\n",
        "      <td>    0</td>\n",
        "    </tr>\n",
        "    <tr>\n",
        "      <th>3 </th>\n",
        "      <td> 535881025c92eb3899543653</td>\n",
        "      <td> Thu Apr 24 02:58:40 +0000 2014</td>\n",
        "      <td> 0</td>\n",
        "      <td>    0</td>\n",
        "    </tr>\n",
        "    <tr>\n",
        "      <th>4 </th>\n",
        "      <td> 535881025c92eb3899543654</td>\n",
        "      <td> Thu Apr 24 02:58:40 +0000 2014</td>\n",
        "      <td> 0</td>\n",
        "      <td>    0</td>\n",
        "    </tr>\n",
        "    <tr>\n",
        "      <th>5 </th>\n",
        "      <td> 535881025c92eb3899543655</td>\n",
        "      <td> Thu Apr 24 02:58:40 +0000 2014</td>\n",
        "      <td> 1</td>\n",
        "      <td>    0</td>\n",
        "    </tr>\n",
        "    <tr>\n",
        "      <th>6 </th>\n",
        "      <td> 535881025c92eb3899543656</td>\n",
        "      <td> Thu Apr 24 02:58:40 +0000 2014</td>\n",
        "      <td> 0</td>\n",
        "      <td>    1</td>\n",
        "    </tr>\n",
        "    <tr>\n",
        "      <th>7 </th>\n",
        "      <td> 535881025c92eb3899543657</td>\n",
        "      <td> Thu Apr 24 02:58:40 +0000 2014</td>\n",
        "      <td> 0</td>\n",
        "      <td> 3494</td>\n",
        "    </tr>\n",
        "    <tr>\n",
        "      <th>8 </th>\n",
        "      <td> 535881025c92eb3899543658</td>\n",
        "      <td> Thu Apr 24 02:58:40 +0000 2014</td>\n",
        "      <td> 0</td>\n",
        "      <td>    0</td>\n",
        "    </tr>\n",
        "    <tr>\n",
        "      <th>9 </th>\n",
        "      <td> 535881025c92eb3899543659</td>\n",
        "      <td> Thu Apr 24 02:58:39 +0000 2014</td>\n",
        "      <td> 0</td>\n",
        "      <td>    0</td>\n",
        "    </tr>\n",
        "    <tr>\n",
        "      <th>10</th>\n",
        "      <td> 535881025c92eb389954365c</td>\n",
        "      <td> Thu Apr 24 02:58:39 +0000 2014</td>\n",
        "      <td> 0</td>\n",
        "      <td>    0</td>\n",
        "    </tr>\n",
        "    <tr>\n",
        "      <th>11</th>\n",
        "      <td> 535881025c92eb389954365a</td>\n",
        "      <td> Thu Apr 24 02:58:39 +0000 2014</td>\n",
        "      <td> 0</td>\n",
        "      <td>    3</td>\n",
        "    </tr>\n",
        "    <tr>\n",
        "      <th>12</th>\n",
        "      <td> 535881025c92eb389954365b</td>\n",
        "      <td> Thu Apr 24 02:58:39 +0000 2014</td>\n",
        "      <td> 0</td>\n",
        "      <td> 3494</td>\n",
        "    </tr>\n",
        "    <tr>\n",
        "      <th>13</th>\n",
        "      <td> 535881025c92eb389954365d</td>\n",
        "      <td> Thu Apr 24 02:58:38 +0000 2014</td>\n",
        "      <td> 0</td>\n",
        "      <td>    0</td>\n",
        "    </tr>\n",
        "    <tr>\n",
        "      <th>14</th>\n",
        "      <td> 535881025c92eb389954365e</td>\n",
        "      <td> Thu Apr 24 02:58:38 +0000 2014</td>\n",
        "      <td> 0</td>\n",
        "      <td>    0</td>\n",
        "    </tr>\n",
        "    <tr>\n",
        "      <th>15</th>\n",
        "      <td> 535881025c92eb389954365f</td>\n",
        "      <td> Thu Apr 24 02:58:38 +0000 2014</td>\n",
        "      <td> 0</td>\n",
        "      <td>    0</td>\n",
        "    </tr>\n",
        "    <tr>\n",
        "      <th>16</th>\n",
        "      <td> 535881025c92eb3899543660</td>\n",
        "      <td> Thu Apr 24 02:58:38 +0000 2014</td>\n",
        "      <td> 0</td>\n",
        "      <td>    0</td>\n",
        "    </tr>\n",
        "    <tr>\n",
        "      <th>17</th>\n",
        "      <td> 535881025c92eb3899543661</td>\n",
        "      <td> Thu Apr 24 02:58:38 +0000 2014</td>\n",
        "      <td> 0</td>\n",
        "      <td>    2</td>\n",
        "    </tr>\n",
        "    <tr>\n",
        "      <th>18</th>\n",
        "      <td> 535881025c92eb3899543662</td>\n",
        "      <td> Thu Apr 24 02:58:37 +0000 2014</td>\n",
        "      <td> 0</td>\n",
        "      <td> 3494</td>\n",
        "    </tr>\n",
        "    <tr>\n",
        "      <th>19</th>\n",
        "      <td> 535881025c92eb3899543663</td>\n",
        "      <td> Thu Apr 24 02:58:37 +0000 2014</td>\n",
        "      <td> 0</td>\n",
        "      <td> 3494</td>\n",
        "    </tr>\n",
        "    <tr>\n",
        "      <th>20</th>\n",
        "      <td> 535881025c92eb3899543664</td>\n",
        "      <td> Thu Apr 24 02:58:37 +0000 2014</td>\n",
        "      <td> 0</td>\n",
        "      <td>    0</td>\n",
        "    </tr>\n",
        "    <tr>\n",
        "      <th>21</th>\n",
        "      <td> 535881025c92eb3899543665</td>\n",
        "      <td> Thu Apr 24 02:58:37 +0000 2014</td>\n",
        "      <td> 0</td>\n",
        "      <td>    1</td>\n",
        "    </tr>\n",
        "    <tr>\n",
        "      <th>22</th>\n",
        "      <td> 535881025c92eb3899543666</td>\n",
        "      <td> Thu Apr 24 02:58:37 +0000 2014</td>\n",
        "      <td> 0</td>\n",
        "      <td>    3</td>\n",
        "    </tr>\n",
        "    <tr>\n",
        "      <th>23</th>\n",
        "      <td> 535881025c92eb3899543667</td>\n",
        "      <td> Thu Apr 24 02:58:37 +0000 2014</td>\n",
        "      <td> 0</td>\n",
        "      <td>    0</td>\n",
        "    </tr>\n",
        "    <tr>\n",
        "      <th>24</th>\n",
        "      <td> 535881025c92eb3899543668</td>\n",
        "      <td> Thu Apr 24 02:58:37 +0000 2014</td>\n",
        "      <td> 0</td>\n",
        "      <td>    0</td>\n",
        "    </tr>\n",
        "    <tr>\n",
        "      <th>25</th>\n",
        "      <td> 535881025c92eb3899543669</td>\n",
        "      <td> Thu Apr 24 02:58:37 +0000 2014</td>\n",
        "      <td> 0</td>\n",
        "      <td> 3494</td>\n",
        "    </tr>\n",
        "    <tr>\n",
        "      <th>26</th>\n",
        "      <td> 535881025c92eb389954366a</td>\n",
        "      <td> Thu Apr 24 02:58:36 +0000 2014</td>\n",
        "      <td> 0</td>\n",
        "      <td> 3494</td>\n",
        "    </tr>\n",
        "    <tr>\n",
        "      <th>27</th>\n",
        "      <td> 535881025c92eb389954366b</td>\n",
        "      <td> Thu Apr 24 02:58:36 +0000 2014</td>\n",
        "      <td> 0</td>\n",
        "      <td>    0</td>\n",
        "    </tr>\n",
        "    <tr>\n",
        "      <th>28</th>\n",
        "      <td> 535881025c92eb389954366c</td>\n",
        "      <td> Thu Apr 24 02:58:36 +0000 2014</td>\n",
        "      <td> 0</td>\n",
        "      <td>    0</td>\n",
        "    </tr>\n",
        "    <tr>\n",
        "      <th>29</th>\n",
        "      <td> 535881025c92eb389954366d</td>\n",
        "      <td> Thu Apr 24 02:58:36 +0000 2014</td>\n",
        "      <td> 0</td>\n",
        "      <td> 3494</td>\n",
        "    </tr>\n",
        "    <tr>\n",
        "      <th>30</th>\n",
        "      <td> 535881025c92eb389954366e</td>\n",
        "      <td> Thu Apr 24 02:58:35 +0000 2014</td>\n",
        "      <td> 0</td>\n",
        "      <td>    0</td>\n",
        "    </tr>\n",
        "    <tr>\n",
        "      <th>31</th>\n",
        "      <td> 535881025c92eb389954366f</td>\n",
        "      <td> Thu Apr 24 02:58:35 +0000 2014</td>\n",
        "      <td> 0</td>\n",
        "      <td>    0</td>\n",
        "    </tr>\n",
        "    <tr>\n",
        "      <th>32</th>\n",
        "      <td> 535881025c92eb3899543670</td>\n",
        "      <td> Thu Apr 24 02:58:35 +0000 2014</td>\n",
        "      <td> 0</td>\n",
        "      <td>    1</td>\n",
        "    </tr>\n",
        "    <tr>\n",
        "      <th>33</th>\n",
        "      <td> 535881025c92eb3899543671</td>\n",
        "      <td> Thu Apr 24 02:58:35 +0000 2014</td>\n",
        "      <td> 0</td>\n",
        "      <td>    0</td>\n",
        "    </tr>\n",
        "    <tr>\n",
        "      <th>34</th>\n",
        "      <td> 535881025c92eb3899543672</td>\n",
        "      <td> Thu Apr 24 02:58:35 +0000 2014</td>\n",
        "      <td> 0</td>\n",
        "      <td>    0</td>\n",
        "    </tr>\n",
        "    <tr>\n",
        "      <th>35</th>\n",
        "      <td> 535881025c92eb3899543673</td>\n",
        "      <td> Thu Apr 24 02:58:35 +0000 2014</td>\n",
        "      <td> 0</td>\n",
        "      <td>    0</td>\n",
        "    </tr>\n",
        "    <tr>\n",
        "      <th>36</th>\n",
        "      <td> 535881025c92eb3899543674</td>\n",
        "      <td> Thu Apr 24 02:58:35 +0000 2014</td>\n",
        "      <td> 0</td>\n",
        "      <td>    6</td>\n",
        "    </tr>\n",
        "    <tr>\n",
        "      <th>37</th>\n",
        "      <td> 535881025c92eb3899543675</td>\n",
        "      <td> Thu Apr 24 02:58:35 +0000 2014</td>\n",
        "      <td> 0</td>\n",
        "      <td> 3494</td>\n",
        "    </tr>\n",
        "    <tr>\n",
        "      <th>38</th>\n",
        "      <td> 535881025c92eb3899543676</td>\n",
        "      <td> Thu Apr 24 02:58:34 +0000 2014</td>\n",
        "      <td> 0</td>\n",
        "      <td>    0</td>\n",
        "    </tr>\n",
        "    <tr>\n",
        "      <th>39</th>\n",
        "      <td> 535881025c92eb3899543677</td>\n",
        "      <td> Thu Apr 24 02:58:34 +0000 2014</td>\n",
        "      <td> 0</td>\n",
        "      <td>    0</td>\n",
        "    </tr>\n",
        "    <tr>\n",
        "      <th>40</th>\n",
        "      <td> 535881025c92eb3899543678</td>\n",
        "      <td> Thu Apr 24 02:58:34 +0000 2014</td>\n",
        "      <td> 0</td>\n",
        "      <td>    1</td>\n",
        "    </tr>\n",
        "    <tr>\n",
        "      <th>41</th>\n",
        "      <td> 535881025c92eb3899543679</td>\n",
        "      <td> Thu Apr 24 02:58:33 +0000 2014</td>\n",
        "      <td> 0</td>\n",
        "      <td>    0</td>\n",
        "    </tr>\n",
        "    <tr>\n",
        "      <th>42</th>\n",
        "      <td> 535881025c92eb389954367a</td>\n",
        "      <td> Thu Apr 24 02:58:33 +0000 2014</td>\n",
        "      <td> 0</td>\n",
        "      <td> 3494</td>\n",
        "    </tr>\n",
        "    <tr>\n",
        "      <th>43</th>\n",
        "      <td> 535881025c92eb389954367b</td>\n",
        "      <td> Thu Apr 24 02:58:33 +0000 2014</td>\n",
        "      <td> 0</td>\n",
        "      <td> 3494</td>\n",
        "    </tr>\n",
        "    <tr>\n",
        "      <th>44</th>\n",
        "      <td> 535881025c92eb389954367c</td>\n",
        "      <td> Thu Apr 24 02:58:33 +0000 2014</td>\n",
        "      <td> 0</td>\n",
        "      <td>    0</td>\n",
        "    </tr>\n",
        "    <tr>\n",
        "      <th>45</th>\n",
        "      <td> 535881025c92eb389954367d</td>\n",
        "      <td> Thu Apr 24 02:58:33 +0000 2014</td>\n",
        "      <td> 0</td>\n",
        "      <td>    1</td>\n",
        "    </tr>\n",
        "    <tr>\n",
        "      <th>46</th>\n",
        "      <td> 535881025c92eb389954367e</td>\n",
        "      <td> Thu Apr 24 02:58:33 +0000 2014</td>\n",
        "      <td> 0</td>\n",
        "      <td> 3494</td>\n",
        "    </tr>\n",
        "    <tr>\n",
        "      <th>47</th>\n",
        "      <td> 535881025c92eb389954367f</td>\n",
        "      <td> Thu Apr 24 02:58:33 +0000 2014</td>\n",
        "      <td> 0</td>\n",
        "      <td>    0</td>\n",
        "    </tr>\n",
        "    <tr>\n",
        "      <th>48</th>\n",
        "      <td> 535881025c92eb3899543684</td>\n",
        "      <td> Thu Apr 24 02:58:32 +0000 2014</td>\n",
        "      <td> 0</td>\n",
        "      <td>    0</td>\n",
        "    </tr>\n",
        "    <tr>\n",
        "      <th>49</th>\n",
        "      <td> 535881025c92eb3899543680</td>\n",
        "      <td> Thu Apr 24 02:58:33 +0000 2014</td>\n",
        "      <td> 0</td>\n",
        "      <td>    0</td>\n",
        "    </tr>\n",
        "    <tr>\n",
        "      <th>50</th>\n",
        "      <td> 535881025c92eb3899543681</td>\n",
        "      <td> Thu Apr 24 02:58:33 +0000 2014</td>\n",
        "      <td> 0</td>\n",
        "      <td> 3494</td>\n",
        "    </tr>\n",
        "    <tr>\n",
        "      <th>51</th>\n",
        "      <td> 535881025c92eb3899543682</td>\n",
        "      <td> Thu Apr 24 02:58:32 +0000 2014</td>\n",
        "      <td> 0</td>\n",
        "      <td> 3494</td>\n",
        "    </tr>\n",
        "    <tr>\n",
        "      <th>52</th>\n",
        "      <td> 535881025c92eb3899543683</td>\n",
        "      <td> Thu Apr 24 02:58:32 +0000 2014</td>\n",
        "      <td> 0</td>\n",
        "      <td>    1</td>\n",
        "    </tr>\n",
        "    <tr>\n",
        "      <th>53</th>\n",
        "      <td> 535881025c92eb3899543685</td>\n",
        "      <td> Thu Apr 24 02:58:31 +0000 2014</td>\n",
        "      <td> 0</td>\n",
        "      <td>    0</td>\n",
        "    </tr>\n",
        "    <tr>\n",
        "      <th>54</th>\n",
        "      <td> 535881025c92eb3899543686</td>\n",
        "      <td> Thu Apr 24 02:58:31 +0000 2014</td>\n",
        "      <td> 0</td>\n",
        "      <td> 3494</td>\n",
        "    </tr>\n",
        "    <tr>\n",
        "      <th>55</th>\n",
        "      <td> 535881025c92eb3899543687</td>\n",
        "      <td> Thu Apr 24 02:58:31 +0000 2014</td>\n",
        "      <td> 0</td>\n",
        "      <td>    0</td>\n",
        "    </tr>\n",
        "    <tr>\n",
        "      <th>56</th>\n",
        "      <td> 535881025c92eb3899543688</td>\n",
        "      <td> Thu Apr 24 02:58:31 +0000 2014</td>\n",
        "      <td> 0</td>\n",
        "      <td> 3494</td>\n",
        "    </tr>\n",
        "    <tr>\n",
        "      <th>57</th>\n",
        "      <td> 535881025c92eb3899543689</td>\n",
        "      <td> Thu Apr 24 02:58:31 +0000 2014</td>\n",
        "      <td> 0</td>\n",
        "      <td> 3494</td>\n",
        "    </tr>\n",
        "    <tr>\n",
        "      <th>58</th>\n",
        "      <td> 535881025c92eb389954368a</td>\n",
        "      <td> Thu Apr 24 02:58:30 +0000 2014</td>\n",
        "      <td> 0</td>\n",
        "      <td>    1</td>\n",
        "    </tr>\n",
        "    <tr>\n",
        "      <th>59</th>\n",
        "      <td> 535881025c92eb389954368b</td>\n",
        "      <td> Thu Apr 24 02:58:30 +0000 2014</td>\n",
        "      <td> 0</td>\n",
        "      <td>    0</td>\n",
        "    </tr>\n",
        "    <tr>\n",
        "      <th></th>\n",
        "      <td>...</td>\n",
        "      <td>...</td>\n",
        "      <td>...</td>\n",
        "      <td>...</td>\n",
        "    </tr>\n",
        "  </tbody>\n",
        "</table>\n",
        "<p>699 rows \u00d7 4 columns</p>\n",
        "</div>"
       ],
       "metadata": {},
       "output_type": "pyout",
       "prompt_number": 20,
       "text": [
        "                         _id                      created_at  favorite_count  \\\n",
        "0   535881025c92eb3899543650  Thu Apr 24 02:58:40 +0000 2014               0   \n",
        "1   535881025c92eb3899543651  Thu Apr 24 02:58:40 +0000 2014               0   \n",
        "2   535881025c92eb3899543652  Thu Apr 24 02:58:40 +0000 2014               0   \n",
        "3   535881025c92eb3899543653  Thu Apr 24 02:58:40 +0000 2014               0   \n",
        "4   535881025c92eb3899543654  Thu Apr 24 02:58:40 +0000 2014               0   \n",
        "5   535881025c92eb3899543655  Thu Apr 24 02:58:40 +0000 2014               1   \n",
        "6   535881025c92eb3899543656  Thu Apr 24 02:58:40 +0000 2014               0   \n",
        "7   535881025c92eb3899543657  Thu Apr 24 02:58:40 +0000 2014               0   \n",
        "8   535881025c92eb3899543658  Thu Apr 24 02:58:40 +0000 2014               0   \n",
        "9   535881025c92eb3899543659  Thu Apr 24 02:58:39 +0000 2014               0   \n",
        "10  535881025c92eb389954365c  Thu Apr 24 02:58:39 +0000 2014               0   \n",
        "11  535881025c92eb389954365a  Thu Apr 24 02:58:39 +0000 2014               0   \n",
        "12  535881025c92eb389954365b  Thu Apr 24 02:58:39 +0000 2014               0   \n",
        "13  535881025c92eb389954365d  Thu Apr 24 02:58:38 +0000 2014               0   \n",
        "14  535881025c92eb389954365e  Thu Apr 24 02:58:38 +0000 2014               0   \n",
        "15  535881025c92eb389954365f  Thu Apr 24 02:58:38 +0000 2014               0   \n",
        "16  535881025c92eb3899543660  Thu Apr 24 02:58:38 +0000 2014               0   \n",
        "17  535881025c92eb3899543661  Thu Apr 24 02:58:38 +0000 2014               0   \n",
        "18  535881025c92eb3899543662  Thu Apr 24 02:58:37 +0000 2014               0   \n",
        "19  535881025c92eb3899543663  Thu Apr 24 02:58:37 +0000 2014               0   \n",
        "20  535881025c92eb3899543664  Thu Apr 24 02:58:37 +0000 2014               0   \n",
        "21  535881025c92eb3899543665  Thu Apr 24 02:58:37 +0000 2014               0   \n",
        "22  535881025c92eb3899543666  Thu Apr 24 02:58:37 +0000 2014               0   \n",
        "23  535881025c92eb3899543667  Thu Apr 24 02:58:37 +0000 2014               0   \n",
        "24  535881025c92eb3899543668  Thu Apr 24 02:58:37 +0000 2014               0   \n",
        "25  535881025c92eb3899543669  Thu Apr 24 02:58:37 +0000 2014               0   \n",
        "26  535881025c92eb389954366a  Thu Apr 24 02:58:36 +0000 2014               0   \n",
        "27  535881025c92eb389954366b  Thu Apr 24 02:58:36 +0000 2014               0   \n",
        "28  535881025c92eb389954366c  Thu Apr 24 02:58:36 +0000 2014               0   \n",
        "29  535881025c92eb389954366d  Thu Apr 24 02:58:36 +0000 2014               0   \n",
        "30  535881025c92eb389954366e  Thu Apr 24 02:58:35 +0000 2014               0   \n",
        "31  535881025c92eb389954366f  Thu Apr 24 02:58:35 +0000 2014               0   \n",
        "32  535881025c92eb3899543670  Thu Apr 24 02:58:35 +0000 2014               0   \n",
        "33  535881025c92eb3899543671  Thu Apr 24 02:58:35 +0000 2014               0   \n",
        "34  535881025c92eb3899543672  Thu Apr 24 02:58:35 +0000 2014               0   \n",
        "35  535881025c92eb3899543673  Thu Apr 24 02:58:35 +0000 2014               0   \n",
        "36  535881025c92eb3899543674  Thu Apr 24 02:58:35 +0000 2014               0   \n",
        "37  535881025c92eb3899543675  Thu Apr 24 02:58:35 +0000 2014               0   \n",
        "38  535881025c92eb3899543676  Thu Apr 24 02:58:34 +0000 2014               0   \n",
        "39  535881025c92eb3899543677  Thu Apr 24 02:58:34 +0000 2014               0   \n",
        "40  535881025c92eb3899543678  Thu Apr 24 02:58:34 +0000 2014               0   \n",
        "41  535881025c92eb3899543679  Thu Apr 24 02:58:33 +0000 2014               0   \n",
        "42  535881025c92eb389954367a  Thu Apr 24 02:58:33 +0000 2014               0   \n",
        "43  535881025c92eb389954367b  Thu Apr 24 02:58:33 +0000 2014               0   \n",
        "44  535881025c92eb389954367c  Thu Apr 24 02:58:33 +0000 2014               0   \n",
        "45  535881025c92eb389954367d  Thu Apr 24 02:58:33 +0000 2014               0   \n",
        "46  535881025c92eb389954367e  Thu Apr 24 02:58:33 +0000 2014               0   \n",
        "47  535881025c92eb389954367f  Thu Apr 24 02:58:33 +0000 2014               0   \n",
        "48  535881025c92eb3899543684  Thu Apr 24 02:58:32 +0000 2014               0   \n",
        "49  535881025c92eb3899543680  Thu Apr 24 02:58:33 +0000 2014               0   \n",
        "50  535881025c92eb3899543681  Thu Apr 24 02:58:33 +0000 2014               0   \n",
        "51  535881025c92eb3899543682  Thu Apr 24 02:58:32 +0000 2014               0   \n",
        "52  535881025c92eb3899543683  Thu Apr 24 02:58:32 +0000 2014               0   \n",
        "53  535881025c92eb3899543685  Thu Apr 24 02:58:31 +0000 2014               0   \n",
        "54  535881025c92eb3899543686  Thu Apr 24 02:58:31 +0000 2014               0   \n",
        "55  535881025c92eb3899543687  Thu Apr 24 02:58:31 +0000 2014               0   \n",
        "56  535881025c92eb3899543688  Thu Apr 24 02:58:31 +0000 2014               0   \n",
        "57  535881025c92eb3899543689  Thu Apr 24 02:58:31 +0000 2014               0   \n",
        "58  535881025c92eb389954368a  Thu Apr 24 02:58:30 +0000 2014               0   \n",
        "59  535881025c92eb389954368b  Thu Apr 24 02:58:30 +0000 2014               0   \n",
        "                         ...                             ...             ...   \n",
        "\n",
        "    retweet_count  \n",
        "0               0  \n",
        "1               1  \n",
        "2               0  \n",
        "3               0  \n",
        "4               0  \n",
        "5               0  \n",
        "6               1  \n",
        "7            3494  \n",
        "8               0  \n",
        "9               0  \n",
        "10              0  \n",
        "11              3  \n",
        "12           3494  \n",
        "13              0  \n",
        "14              0  \n",
        "15              0  \n",
        "16              0  \n",
        "17              2  \n",
        "18           3494  \n",
        "19           3494  \n",
        "20              0  \n",
        "21              1  \n",
        "22              3  \n",
        "23              0  \n",
        "24              0  \n",
        "25           3494  \n",
        "26           3494  \n",
        "27              0  \n",
        "28              0  \n",
        "29           3494  \n",
        "30              0  \n",
        "31              0  \n",
        "32              1  \n",
        "33              0  \n",
        "34              0  \n",
        "35              0  \n",
        "36              6  \n",
        "37           3494  \n",
        "38              0  \n",
        "39              0  \n",
        "40              1  \n",
        "41              0  \n",
        "42           3494  \n",
        "43           3494  \n",
        "44              0  \n",
        "45              1  \n",
        "46           3494  \n",
        "47              0  \n",
        "48              0  \n",
        "49              0  \n",
        "50           3494  \n",
        "51           3494  \n",
        "52              1  \n",
        "53              0  \n",
        "54           3494  \n",
        "55              0  \n",
        "56           3494  \n",
        "57           3494  \n",
        "58              1  \n",
        "59              0  \n",
        "              ...  \n",
        "\n",
        "[699 rows x 4 columns]"
       ]
      }
     ],
     "prompt_number": 20
    },
    {
     "cell_type": "code",
     "collapsed": false,
     "input": [
      "type(db.tweets.find(fields=['created_at', 'retweet_count', 'favorite_count']))"
     ],
     "language": "python",
     "metadata": {},
     "outputs": [
      {
       "metadata": {},
       "output_type": "pyout",
       "prompt_number": 21,
       "text": [
        "pymongo.cursor.Cursor"
       ]
      }
     ],
     "prompt_number": 21
    },
    {
     "cell_type": "code",
     "collapsed": false,
     "input": [],
     "language": "python",
     "metadata": {},
     "outputs": [],
     "prompt_number": 21
    },
    {
     "cell_type": "code",
     "collapsed": false,
     "input": [],
     "language": "python",
     "metadata": {},
     "outputs": [],
     "prompt_number": 21
    },
    {
     "cell_type": "code",
     "collapsed": false,
     "input": [
      "retweet_favorites = pd.DataFrame(list(db.tweets.find(fields=['created_at','retweet_count','favorite_count'])))\n",
      "retweet_favorites.head()"
     ],
     "language": "python",
     "metadata": {
      "slideshow": {
       "slide_type": "subslide"
      }
     },
     "outputs": [
      {
       "html": [
        "<div style=\"max-height:1000px;max-width:1500px;overflow:auto;\">\n",
        "<table border=\"1\" class=\"dataframe\">\n",
        "  <thead>\n",
        "    <tr style=\"text-align: right;\">\n",
        "      <th></th>\n",
        "      <th>_id</th>\n",
        "      <th>created_at</th>\n",
        "      <th>favorite_count</th>\n",
        "      <th>retweet_count</th>\n",
        "    </tr>\n",
        "  </thead>\n",
        "  <tbody>\n",
        "    <tr>\n",
        "      <th>0</th>\n",
        "      <td> 535881025c92eb3899543650</td>\n",
        "      <td> Thu Apr 24 02:58:40 +0000 2014</td>\n",
        "      <td> 0</td>\n",
        "      <td> 0</td>\n",
        "    </tr>\n",
        "    <tr>\n",
        "      <th>1</th>\n",
        "      <td> 535881025c92eb3899543651</td>\n",
        "      <td> Thu Apr 24 02:58:40 +0000 2014</td>\n",
        "      <td> 0</td>\n",
        "      <td> 1</td>\n",
        "    </tr>\n",
        "    <tr>\n",
        "      <th>2</th>\n",
        "      <td> 535881025c92eb3899543652</td>\n",
        "      <td> Thu Apr 24 02:58:40 +0000 2014</td>\n",
        "      <td> 0</td>\n",
        "      <td> 0</td>\n",
        "    </tr>\n",
        "    <tr>\n",
        "      <th>3</th>\n",
        "      <td> 535881025c92eb3899543653</td>\n",
        "      <td> Thu Apr 24 02:58:40 +0000 2014</td>\n",
        "      <td> 0</td>\n",
        "      <td> 0</td>\n",
        "    </tr>\n",
        "    <tr>\n",
        "      <th>4</th>\n",
        "      <td> 535881025c92eb3899543654</td>\n",
        "      <td> Thu Apr 24 02:58:40 +0000 2014</td>\n",
        "      <td> 0</td>\n",
        "      <td> 0</td>\n",
        "    </tr>\n",
        "  </tbody>\n",
        "</table>\n",
        "<p>5 rows \u00d7 4 columns</p>\n",
        "</div>"
       ],
       "metadata": {},
       "output_type": "pyout",
       "prompt_number": 22,
       "text": [
        "                        _id                      created_at  favorite_count  \\\n",
        "0  535881025c92eb3899543650  Thu Apr 24 02:58:40 +0000 2014               0   \n",
        "1  535881025c92eb3899543651  Thu Apr 24 02:58:40 +0000 2014               0   \n",
        "2  535881025c92eb3899543652  Thu Apr 24 02:58:40 +0000 2014               0   \n",
        "3  535881025c92eb3899543653  Thu Apr 24 02:58:40 +0000 2014               0   \n",
        "4  535881025c92eb3899543654  Thu Apr 24 02:58:40 +0000 2014               0   \n",
        "\n",
        "   retweet_count  \n",
        "0              0  \n",
        "1              1  \n",
        "2              0  \n",
        "3              0  \n",
        "4              0  \n",
        "\n",
        "[5 rows x 4 columns]"
       ]
      }
     ],
     "prompt_number": 22
    },
    {
     "cell_type": "markdown",
     "metadata": {
      "slideshow": {
       "slide_type": "slide"
      }
     },
     "source": [
      "`.describe()` is a useful method to get the gist of our data."
     ]
    },
    {
     "cell_type": "code",
     "collapsed": false,
     "input": [
      "retweet_favorites.describe()"
     ],
     "language": "python",
     "metadata": {
      "slideshow": {
       "slide_type": "-"
      }
     },
     "outputs": [
      {
       "html": [
        "<div style=\"max-height:1000px;max-width:1500px;overflow:auto;\">\n",
        "<table border=\"1\" class=\"dataframe\">\n",
        "  <thead>\n",
        "    <tr style=\"text-align: right;\">\n",
        "      <th></th>\n",
        "      <th>favorite_count</th>\n",
        "      <th>retweet_count</th>\n",
        "    </tr>\n",
        "  </thead>\n",
        "  <tbody>\n",
        "    <tr>\n",
        "      <th>count</th>\n",
        "      <td> 699.000000</td>\n",
        "      <td>  699.000000</td>\n",
        "    </tr>\n",
        "    <tr>\n",
        "      <th>mean</th>\n",
        "      <td>   0.097282</td>\n",
        "      <td>  249.626609</td>\n",
        "    </tr>\n",
        "    <tr>\n",
        "      <th>std</th>\n",
        "      <td>   0.646109</td>\n",
        "      <td>  883.896420</td>\n",
        "    </tr>\n",
        "    <tr>\n",
        "      <th>min</th>\n",
        "      <td>   0.000000</td>\n",
        "      <td>    0.000000</td>\n",
        "    </tr>\n",
        "    <tr>\n",
        "      <th>25%</th>\n",
        "      <td>   0.000000</td>\n",
        "      <td>    0.000000</td>\n",
        "    </tr>\n",
        "    <tr>\n",
        "      <th>50%</th>\n",
        "      <td>   0.000000</td>\n",
        "      <td>    1.000000</td>\n",
        "    </tr>\n",
        "    <tr>\n",
        "      <th>75%</th>\n",
        "      <td>   0.000000</td>\n",
        "      <td>    8.500000</td>\n",
        "    </tr>\n",
        "    <tr>\n",
        "      <th>max</th>\n",
        "      <td>   8.000000</td>\n",
        "      <td> 3648.000000</td>\n",
        "    </tr>\n",
        "  </tbody>\n",
        "</table>\n",
        "<p>8 rows \u00d7 2 columns</p>\n",
        "</div>"
       ],
       "metadata": {},
       "output_type": "pyout",
       "prompt_number": 23,
       "text": [
        "       favorite_count  retweet_count\n",
        "count      699.000000     699.000000\n",
        "mean         0.097282     249.626609\n",
        "std          0.646109     883.896420\n",
        "min          0.000000       0.000000\n",
        "25%          0.000000       0.000000\n",
        "50%          0.000000       1.000000\n",
        "75%          0.000000       8.500000\n",
        "max          8.000000    3648.000000\n",
        "\n",
        "[8 rows x 2 columns]"
       ]
      }
     ],
     "prompt_number": 23
    },
    {
     "cell_type": "markdown",
     "metadata": {
      "slideshow": {
       "slide_type": "subslide"
      }
     },
     "source": [
      "However, when applied to a DataFrame, it only describes numeric columns."
     ]
    },
    {
     "cell_type": "code",
     "collapsed": false,
     "input": [
      "retweet_favorites.dtypes"
     ],
     "language": "python",
     "metadata": {
      "slideshow": {
       "slide_type": "-"
      }
     },
     "outputs": [
      {
       "metadata": {},
       "output_type": "pyout",
       "prompt_number": 24,
       "text": [
        "_id               object\n",
        "created_at        object\n",
        "favorite_count     int64\n",
        "retweet_count      int64\n",
        "dtype: object"
       ]
      }
     ],
     "prompt_number": 24
    },
    {
     "cell_type": "markdown",
     "metadata": {
      "slideshow": {
       "slide_type": "subslide"
      }
     },
     "source": [
      "`.describe()` can be called on individual columns (i.e. `Series`), even if they are not numeric."
     ]
    },
    {
     "cell_type": "code",
     "collapsed": false,
     "input": [
      "retweet_favorites.created_at.describe()"
     ],
     "language": "python",
     "metadata": {
      "slideshow": {
       "slide_type": "-"
      }
     },
     "outputs": [
      {
       "metadata": {},
       "output_type": "pyout",
       "prompt_number": 25,
       "text": [
        "count                                699\n",
        "unique                               172\n",
        "top       Tue Apr 29 00:32:36 +0000 2014\n",
        "freq                                  24\n",
        "Name: created_at, dtype: object"
       ]
      }
     ],
     "prompt_number": 25
    },
    {
     "cell_type": "markdown",
     "metadata": {
      "slideshow": {
       "slide_type": "fragment"
      }
     },
     "source": [
      "However, in this case `created_at` is being treated as a string, which is not very helpful. We can fix that with `pandas.to_datetime`:"
     ]
    },
    {
     "cell_type": "code",
     "collapsed": false,
     "input": [
      "retweet_favorites.created_at.map(pd.to_datetime).describe()"
     ],
     "language": "python",
     "metadata": {
      "slideshow": {
       "slide_type": "fragment"
      }
     },
     "outputs": [
      {
       "metadata": {},
       "output_type": "pyout",
       "prompt_number": 26,
       "text": [
        "count                     699\n",
        "unique                    172\n",
        "first     2014-04-24 02:58:02\n",
        "last      2014-04-29 01:02:23\n",
        "top       2014-04-29 00:32:36\n",
        "freq                       24\n",
        "Name: created_at, dtype: object"
       ]
      }
     ],
     "prompt_number": 26
    },
    {
     "cell_type": "markdown",
     "metadata": {
      "slideshow": {
       "slide_type": "notes"
      }
     },
     "source": [
      "Not all that interesting though, since all of these tweets were collected within a couple seconds of each other."
     ]
    },
    {
     "cell_type": "markdown",
     "metadata": {
      "slideshow": {
       "slide_type": "slide"
      }
     },
     "source": [
      "Mongo allows us to access subfields directly."
     ]
    },
    {
     "cell_type": "code",
     "collapsed": false,
     "input": [
      "mentions_followers = list(db.tweets.find(fields=['entities.user_mentions', 'user.followers_count']))\n",
      "pd.DataFrame(mentions_followers).head()"
     ],
     "language": "python",
     "metadata": {
      "slideshow": {
       "slide_type": "-"
      }
     },
     "outputs": [
      {
       "html": [
        "<div style=\"max-height:1000px;max-width:1500px;overflow:auto;\">\n",
        "<table border=\"1\" class=\"dataframe\">\n",
        "  <thead>\n",
        "    <tr style=\"text-align: right;\">\n",
        "      <th></th>\n",
        "      <th>_id</th>\n",
        "      <th>entities</th>\n",
        "      <th>user</th>\n",
        "    </tr>\n",
        "  </thead>\n",
        "  <tbody>\n",
        "    <tr>\n",
        "      <th>0</th>\n",
        "      <td> 535881025c92eb3899543650</td>\n",
        "      <td> {u'user_mentions': [{u'indices': [0, 13], u'sc...</td>\n",
        "      <td>  {u'followers_count': 964}</td>\n",
        "    </tr>\n",
        "    <tr>\n",
        "      <th>1</th>\n",
        "      <td> 535881025c92eb3899543651</td>\n",
        "      <td> {u'user_mentions': [{u'indices': [3, 18], u'sc...</td>\n",
        "      <td>  {u'followers_count': 200}</td>\n",
        "    </tr>\n",
        "    <tr>\n",
        "      <th>2</th>\n",
        "      <td> 535881025c92eb3899543652</td>\n",
        "      <td> {u'user_mentions': [{u'indices': [0, 13], u'sc...</td>\n",
        "      <td>    {u'followers_count': 6}</td>\n",
        "    </tr>\n",
        "    <tr>\n",
        "      <th>3</th>\n",
        "      <td> 535881025c92eb3899543653</td>\n",
        "      <td> {u'user_mentions': [{u'indices': [0, 13], u'sc...</td>\n",
        "      <td>  {u'followers_count': 242}</td>\n",
        "    </tr>\n",
        "    <tr>\n",
        "      <th>4</th>\n",
        "      <td> 535881025c92eb3899543654</td>\n",
        "      <td> {u'user_mentions': [{u'indices': [11, 24], u's...</td>\n",
        "      <td> {u'followers_count': 3301}</td>\n",
        "    </tr>\n",
        "  </tbody>\n",
        "</table>\n",
        "<p>5 rows \u00d7 3 columns</p>\n",
        "</div>"
       ],
       "metadata": {},
       "output_type": "pyout",
       "prompt_number": 27,
       "text": [
        "                        _id  \\\n",
        "0  535881025c92eb3899543650   \n",
        "1  535881025c92eb3899543651   \n",
        "2  535881025c92eb3899543652   \n",
        "3  535881025c92eb3899543653   \n",
        "4  535881025c92eb3899543654   \n",
        "\n",
        "                                            entities  \\\n",
        "0  {u'user_mentions': [{u'indices': [0, 13], u'sc...   \n",
        "1  {u'user_mentions': [{u'indices': [3, 18], u'sc...   \n",
        "2  {u'user_mentions': [{u'indices': [0, 13], u'sc...   \n",
        "3  {u'user_mentions': [{u'indices': [0, 13], u'sc...   \n",
        "4  {u'user_mentions': [{u'indices': [11, 24], u's...   \n",
        "\n",
        "                         user  \n",
        "0   {u'followers_count': 964}  \n",
        "1   {u'followers_count': 200}  \n",
        "2     {u'followers_count': 6}  \n",
        "3   {u'followers_count': 242}  \n",
        "4  {u'followers_count': 3301}  \n",
        "\n",
        "[5 rows x 3 columns]"
       ]
      }
     ],
     "prompt_number": 27
    },
    {
     "cell_type": "markdown",
     "metadata": {
      "slideshow": {
       "slide_type": "subslide"
      }
     },
     "source": [
      "Pandas doesn't know how to parse the sub-documents however, so we must tell it explicitly:"
     ]
    },
    {
     "cell_type": "code",
     "collapsed": false,
     "input": [
      "mentions_followers_df = pd.DataFrame({'user_mentions': len(tweet['entities']['user_mentions']), \n",
      "              'followers_count': tweet['user'].get('followers_count')} for tweet in mentions_followers)\n",
      "mentions_followers_df.head()"
     ],
     "language": "python",
     "metadata": {
      "slideshow": {
       "slide_type": "-"
      }
     },
     "outputs": [
      {
       "html": [
        "<div style=\"max-height:1000px;max-width:1500px;overflow:auto;\">\n",
        "<table border=\"1\" class=\"dataframe\">\n",
        "  <thead>\n",
        "    <tr style=\"text-align: right;\">\n",
        "      <th></th>\n",
        "      <th>followers_count</th>\n",
        "      <th>user_mentions</th>\n",
        "    </tr>\n",
        "  </thead>\n",
        "  <tbody>\n",
        "    <tr>\n",
        "      <th>0</th>\n",
        "      <td>  964</td>\n",
        "      <td> 1</td>\n",
        "    </tr>\n",
        "    <tr>\n",
        "      <th>1</th>\n",
        "      <td>  200</td>\n",
        "      <td> 2</td>\n",
        "    </tr>\n",
        "    <tr>\n",
        "      <th>2</th>\n",
        "      <td>    6</td>\n",
        "      <td> 2</td>\n",
        "    </tr>\n",
        "    <tr>\n",
        "      <th>3</th>\n",
        "      <td>  242</td>\n",
        "      <td> 1</td>\n",
        "    </tr>\n",
        "    <tr>\n",
        "      <th>4</th>\n",
        "      <td> 3301</td>\n",
        "      <td> 1</td>\n",
        "    </tr>\n",
        "  </tbody>\n",
        "</table>\n",
        "<p>5 rows \u00d7 2 columns</p>\n",
        "</div>"
       ],
       "metadata": {},
       "output_type": "pyout",
       "prompt_number": 28,
       "text": [
        "   followers_count  user_mentions\n",
        "0              964              1\n",
        "1              200              2\n",
        "2                6              2\n",
        "3              242              1\n",
        "4             3301              1\n",
        "\n",
        "[5 rows x 2 columns]"
       ]
      }
     ],
     "prompt_number": 28
    },
    {
     "cell_type": "markdown",
     "metadata": {
      "slideshow": {
       "slide_type": "slide"
      }
     },
     "source": [
      "Perhaps `user_mentions` and `followers_count` are correlated?"
     ]
    },
    {
     "cell_type": "code",
     "collapsed": false,
     "input": [
      "%matplotlib inline\n",
      "plt.scatter(mentions_followers_df.user_mentions, mentions_followers_df.followers_count)\n",
      "mentions_followers_df.corr()"
     ],
     "language": "python",
     "metadata": {
      "slideshow": {
       "slide_type": "-"
      }
     },
     "outputs": [
      {
       "html": [
        "<div style=\"max-height:1000px;max-width:1500px;overflow:auto;\">\n",
        "<table border=\"1\" class=\"dataframe\">\n",
        "  <thead>\n",
        "    <tr style=\"text-align: right;\">\n",
        "      <th></th>\n",
        "      <th>followers_count</th>\n",
        "      <th>user_mentions</th>\n",
        "    </tr>\n",
        "  </thead>\n",
        "  <tbody>\n",
        "    <tr>\n",
        "      <th>followers_count</th>\n",
        "      <td> 1.000000</td>\n",
        "      <td>-0.030846</td>\n",
        "    </tr>\n",
        "    <tr>\n",
        "      <th>user_mentions</th>\n",
        "      <td>-0.030846</td>\n",
        "      <td> 1.000000</td>\n",
        "    </tr>\n",
        "  </tbody>\n",
        "</table>\n",
        "<p>2 rows \u00d7 2 columns</p>\n",
        "</div>"
       ],
       "metadata": {},
       "output_type": "pyout",
       "prompt_number": 29,
       "text": [
        "                 followers_count  user_mentions\n",
        "followers_count         1.000000      -0.030846\n",
        "user_mentions          -0.030846       1.000000\n",
        "\n",
        "[2 rows x 2 columns]"
       ]
      },
      {
       "metadata": {},
       "output_type": "display_data",
       "png": "[encoded data removed]",
       "text": [
        "<matplotlib.figure.Figure at 0x10b71d890>"
       ]
      }
     ],
     "prompt_number": 29
    },
    {
     "cell_type": "markdown",
     "metadata": {
      "slideshow": {
       "slide_type": "fragment"
      }
     },
     "source": [
      "Perhaps not."
     ]
    },
    {
     "cell_type": "markdown",
     "metadata": {
      "slideshow": {
       "slide_type": "slide"
      }
     },
     "source": [
      "Lab\n",
      "============\n",
      "1-2 Pairs\n",
      "------------"
     ]
    },
    {
     "cell_type": "markdown",
     "metadata": {
      "slideshow": {
       "slide_type": "notes"
      }
     },
     "source": [
      "Raise two fingers if you understand the material well.  \n",
      "Raise one finger if you understand this material OK.  \n",
      "Now, 1 find a 2 and sit next to them. While you work through this exercise, only 1's can type."
     ]
    },
    {
     "cell_type": "markdown",
     "metadata": {
      "slideshow": {
       "slide_type": "fragment"
      }
     },
     "source": [
      "The [Yahoo! Where On Earth ID](https://developer.yahoo.com/geo/geoplanet/) of Canada is 23424775.  \n",
      "Use it to find Twitter trends in Canada and compare it to US trends. What's the difference between them?  \n",
      "\n",
      "- Insert the last 100 tweets for all Canada-only trends into a `canada` collection.  \n",
      "- Insert the last 100 tweets for all US-only trends into a `us` collections.  \n",
      "- For this (small and not very representative) sample, which users have the highest `follower_count`?"
     ]
    },
    {
     "cell_type": "code",
     "collapsed": false,
     "input": [
      "CA_WOE_ID = 23424775\n",
      "\n",
      "canada_trends = twitter_api.trends.place(_id=CA_WOE_ID)\n"
     ],
     "language": "python",
     "metadata": {},
     "outputs": []
    },
    {
     "cell_type": "code",
     "collapsed": false,
     "input": [
      "ca_trends_set = set([trend['name'] for trends in canada_trends\n",
      "                     for trend in trends['trends']])\n",
      "ca_only_trend_set = ca_trends_set.difference(us_trends_set)\n",
      "us_only_trend_set = us_trends_set.difference(ca_trends_set)\n",
      "\n",
      "pprint(ca_only_trend_set)\n",
      "pprint(us_only_trend_set)\n",
      "\n",
      "ca_results = list()\n",
      "ca_only_trends_list = list(ca_trends_set)\n",
      "\n",
      "for trend in enumerate(ca_only_trends_list):\n",
      "    q = str(trend)\n",
      "    print('Trend: '+ q)\n",
      "    count = 100\n",
      "    search_results = twitter_api.search.tweets(q=q, count=count)\n",
      "    statuses = search_results['statuses']\n",
      "    if len(statuses) > 0:\n",
      "        ca_results.extend(statuses)\n",
      "        \n",
      "print(len(ca_results))\n",
      "\n",
      "us_results = list()\n",
      "us_only_trends_list = list(us_trends_set)\n",
      "for trend in enumerate(us_only_trends_list):\n",
      "    q = str(trend)\n",
      "    print('Trend: '+ q)\n",
      "    count = 100\n",
      "    search_results = twitter_api.search.tweets(q=q, count=count)\n",
      "    statuses = search_results['statuses']\n",
      "    if len(statuses) > 0:\n",
      "        us_results.extend(statuses)\n",
      "\n",
      "print(len(us_results))\n",
      "\n",
      "if len(ca_results) > 0:\n",
      "    ca_statuses = db.canada.insert(ca_results)\n",
      "if len(us_results) > 0:\n",
      "    us_statuses = db.us.insert(us_results)\n",
      "\n",
      "\n",
      "# See https://dev.twitter.com/docs/api/1.1/get/search/tweets"
     ],
     "language": "python",
     "metadata": {},
     "outputs": []
    },
    {
     "cell_type": "markdown",
     "metadata": {
      "slideshow": {
       "slide_type": "fragment"
      }
     },
     "source": [
      "Individually:\n",
      "------------\n",
      "Find tweets where `'retweet_count': {\"$gt\": 0}`.  \n",
      "What is their `count`?  \n",
      "Is there anything about them that stands out as retweetable?"
     ]
    },
    {
     "cell_type": "markdown",
     "metadata": {
      "slideshow": {
       "slide_type": "notes"
      }
     },
     "source": [
      "Further exercises:  \n",
      "\n",
      "* Twitter - _Mining-the-Social-Web-2nd-Edition_: [Chapter 1 - Mining Twitter](http://nbviewer.ipython.org/github/ptwobrussell/Mining-the-Social-Web-2nd-Edition/blob/master/ipynb/__Chapter%201%20-%20Mining%20Twitter%20%28Full-Text%20Sampler%29.ipynb)\n",
      "* Mongo - [Aggregation Framework](http://docs.mongodb.org/manual/aggregation/)"
     ]
    },
    {
     "cell_type": "markdown",
     "metadata": {
      "slideshow": {
       "slide_type": "slide"
      }
     },
     "source": [
      "Next week:\n",
      "==============\n",
      "Exploring Data\n",
      "--------------"
     ]
    }
   ],
   "metadata": {}
  }
 ]
}