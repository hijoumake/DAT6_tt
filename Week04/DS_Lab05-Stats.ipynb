{
 "metadata": {
  "name": "",
  "signature": "sha256:bd83f7d4937777ec6c908941924820d5989843e378bf1d30d48fe636ac5ec922"
 },
 "nbformat": 3,
 "nbformat_minor": 0,
 "worksheets": [
  {
   "cells": [
    {
     "cell_type": "markdown",
     "metadata": {
      "slideshow": {
       "slide_type": "slide"
      }
     },
     "source": [
      "Lab\n",
      "===================\n",
      "Probability and Statistics\n",
      "-------------------\n",
      "Alessandro D. Gagliardi"
     ]
    },
    {
     "cell_type": "markdown",
     "metadata": {
      "slideshow": {
       "slide_type": "slide"
      }
     },
     "source": [
      "On Groundhog Day, February 2, a famous groundhog in Punxsutawney, PA is used to predict whether a winter will be long or not based on whether or not he sees his shadow. I collected data on whether he saw his shadow or not from [here](http://www.stormfax.com/ghogday.htm). I stored some of this data in this [table](http://stats191.stanford.edu/data/groundhog.table).\n",
      "\n",
      "Although Phil is on the East Coast,\n",
      "I wondered if the information says anything about whether or not we will experience\n",
      "a rainy winter out here in California. For this, I found rainfall data, and saved it in a \n",
      "[table](http://stats191.stanford.edu/data/rainfall.csv). To see how this was extracted\n",
      "see this [notebook](http://nbviewer.ipython.org/url/www.stanford.edu/class/stats191/notebooks/Rainfall%20data.ipynb).\n",
      "\n",
      "1. Make a boxplot of the average rainfall in Northen California comparing the years Phil sees his shadow versus the years he does not.\n",
      "\n",
      "2. Construct a 90% confidence interval for the difference between the mean rainfall in years Phil sees his shadow and years he does not.\n",
      "\n",
      "3. Interpret the interval in part 2.\n",
      "\n",
      "4. At level, $\\alpha = 0.05$ would you reject the null hypothesis that the average rainfall in Northern California during the month of February was the same in years Phil sees his shadow versus years he does not?\n",
      "\n",
      "5. What assumptions are you making in forming your confidence interval and in your hypothesis test?"
     ]
    },
    {
     "cell_type": "code",
     "collapsed": false,
     "input": [
      "%matplotlib inline\n",
      "import os\n",
      "import matplotlib.pyplot as plt\n",
      "import numpy as np\n",
      "import pandas as pd\n",
      "import statsmodels.api as sm\n",
      "import twitter\n",
      "import yaml\n",
      "from pymongo import MongoClient"
     ],
     "language": "python",
     "metadata": {
      "slideshow": {
       "slide_type": "subslide"
      }
     },
     "outputs": [],
     "prompt_number": 2
    },
    {
     "cell_type": "markdown",
     "metadata": {
      "slideshow": {
       "slide_type": "slide"
      }
     },
     "source": [
      "Part 1\n",
      "------"
     ]
    },
    {
     "cell_type": "code",
     "collapsed": false,
     "input": [
      "rainfall = pd.read_csv('http://stats191.stanford.edu/data/rainfall.csv')\n",
      "groundhog = pd.read_csv('http://stats191.stanford.edu/data/groundhog.table')"
     ],
     "language": "python",
     "metadata": {
      "slideshow": {
       "slide_type": "fragment"
      }
     },
     "outputs": [],
     "prompt_number": 3
    },
    {
     "cell_type": "code",
     "collapsed": false,
     "input": [
      "df = rainfall.merge(groundhog, left_on='WY', right_on='year')[['Total', 'shadow']]"
     ],
     "language": "python",
     "metadata": {},
     "outputs": [],
     "prompt_number": 4
    },
    {
     "cell_type": "code",
     "collapsed": false,
     "input": [
      "df.boxplot(column='Total', by='shadow')"
     ],
     "language": "python",
     "metadata": {},
     "outputs": [
      {
       "metadata": {},
       "output_type": "pyout",
       "prompt_number": 5,
       "text": [
        "<matplotlib.axes.AxesSubplot at 0x10ce11f10>"
       ]
      },
      {
       "metadata": {},
       "output_type": "display_data",
       "png": "[encoded data removed]",
       "text": [
        "<matplotlib.figure.Figure at 0x104948090>"
       ]
      }
     ],
     "prompt_number": 5
    },
    {
     "cell_type": "markdown",
     "metadata": {
      "slideshow": {
       "slide_type": "slide"
      }
     },
     "source": [
      "Part 2\n",
      "------"
     ]
    },
    {
     "cell_type": "code",
     "collapsed": false,
     "input": [
      "mod = sm.OLS.from_formula(\"Total ~ shadow == 'Y'\", df)\n",
      "res = mod.fit()\n",
      "print res.summary(alpha = .1)"
     ],
     "language": "python",
     "metadata": {
      "slideshow": {
       "slide_type": "fragment"
      }
     },
     "outputs": [
      {
       "output_type": "stream",
       "stream": "stdout",
       "text": [
        "                            OLS Regression Results                            \n",
        "==============================================================================\n",
        "Dep. Variable:                  Total   R-squared:                       0.016\n",
        "Model:                            OLS   Adj. R-squared:                 -0.036\n",
        "Method:                 Least Squares   F-statistic:                    0.2996\n",
        "Date:                Mon, 28 Apr 2014   Prob (F-statistic):              0.591\n",
        "Time:                        21:18:20   Log-Likelihood:                -88.568\n",
        "No. Observations:                  21   AIC:                             181.1\n",
        "Df Residuals:                      19   BIC:                             183.2\n",
        "Df Model:                           1                                         \n",
        "=========================================================================================\n",
        "                            coef    std err          t      P>|t|      [90.0% Conf. Int.]\n",
        "-----------------------------------------------------------------------------------------\n",
        "Intercept                56.4160      7.721      7.307      0.000        43.066    69.766\n",
        "shadow == 'Y'[T.True]    -4.8410      8.845     -0.547      0.591       -20.135    10.453\n",
        "==============================================================================\n",
        "Omnibus:                        1.662   Durbin-Watson:                   1.830\n",
        "Prob(Omnibus):                  0.436   Jarque-Bera (JB):                1.276\n",
        "Skew:                           0.403   Prob(JB):                        0.528\n",
        "Kurtosis:                       2.102   Cond. No.                         3.88\n",
        "==============================================================================\n"
       ]
      }
     ],
     "prompt_number": 50
    },
    {
     "cell_type": "markdown",
     "metadata": {
      "slideshow": {
       "slide_type": "fragment"
      }
     },
     "source": [
      "I report the confidence interval [-20.135, 10.453] for the difference between the `shadow == 'Y'` and the `shadow == 'N'` means."
     ]
    },
    {
     "cell_type": "markdown",
     "metadata": {
      "slideshow": {
       "slide_type": "slide"
      }
     },
     "source": [
      "Part 3\n",
      "------\n",
      "If I repeated this sample of `shadow` and `rainfall` in Northern California (assuming they are IID each year) and I form this confidence interval as `t.test` does. Then, 90% of the intervals will cover the true underlying difference in the rainfall between years the groundhog sees his shadow or not."
     ]
    },
    {
     "cell_type": "markdown",
     "metadata": {
      "slideshow": {
       "slide_type": "slide"
      }
     },
     "source": [
      "Part 4\n",
      "------\n",
      "As the reported $p$-value is 0.591, I fail to reject the null hypothesis at the 5% level."
     ]
    },
    {
     "cell_type": "markdown",
     "metadata": {
      "slideshow": {
       "slide_type": "slide"
      }
     },
     "source": [
      "Part 5\n",
      "------\n",
      "I am assuming that the `rainfall` measurements are independent $N(\\mu_i,\\sigma^2)$ where $\\mu_i=\\mu_N$ in the `shadow == 'N'` years and $\\mu_i=\\mu_Y$ in the `shadow == 'Y'` years."
     ]
    },
    {
     "cell_type": "markdown",
     "metadata": {},
     "source": [
      "---"
     ]
    },
    {
     "cell_type": "markdown",
     "metadata": {
      "slideshow": {
       "slide_type": "fragment"
      }
     },
     "source": [
      "1-2 Pairs\n",
      "=========\n",
      "\n"
     ]
    },
    {
     "cell_type": "markdown",
     "metadata": {},
     "source": [
      "Start with the data on US and Canada trends from last week.\n",
      "\n",
      "1. Create a histogram of `text_len` within each group. (Use `alpha = 0.5` to overlay them.)\n",
      "\n",
      "2. Compute the sample mean and standard deviation in the two groups.\n",
      "\n",
      "3. Create a `DataFrame` concatenating data from each collection adding a `country` column to distinguish US from Canada.  \n",
      "    i.e. given `ca_text_len` and `us_text_len` as `Series` containing the length of each text in the Canadian and US collections respectively:\n",
      "\n",
      "    ```python\n",
      "    text_len_df = pd.concat([pd.DataFrame({'text_len': ca_text_len, 'country': 'CA'}), \n",
      "                             pd.DataFrame({'text_len': us_text_len, 'country': 'US'})])\n",
      "    ```\n",
      "\n",
      "4. Use this `DataFrame` to create a `boxplot` of the `text_len` by `country`.\n",
      "\n",
      "5. Use `OLS` to compute a 90% confidence interval for the difference in `text_len` between the two groups. Name a problem with describing the confidence interval of tweet length in this way.\n",
      "\n",
      "5. At level $\\alpha=5\\%$, test the null hypothesis that the average text length does not differ between the two groups. What can you conclude?\n",
      "\n",
      "6. Repeat the above steps but pick your own tags and try to find a pair with a more significant difference."
     ]
    },
    {
     "cell_type": "code",
     "collapsed": false,
     "input": [
      "# standard library:\n",
      "import os  \n",
      "\n",
      "from pprint import pprint\n",
      "\n",
      "# other modules:\n",
      "import matplotlib.pyplot as plt\n",
      "import pandas as pd\n",
      "import numpy as np\n",
      "import twitter\n",
      "import yaml\n",
      "\n",
      "from pymongo import MongoClient\n",
      "\n",
      "credentials = yaml.load(open(os.path.expanduser('~/api_cred.yml')))\n",
      "\n",
      "auth = twitter.oauth.OAuth(credentials['ACCESS_TOKEN'], \n",
      "                           credentials['ACCESS_TOKEN_SECRET'],\n",
      "                           credentials['API_KEY'],\n",
      "                           credentials['API_SECRET'])\n",
      "\n",
      "twitter_api = twitter.Twitter(auth=auth)\n",
      "\n",
      "# The Yahoo! Where On Earth ID for the entire world is 1.\n",
      "# See https://dev.twitter.com/docs/api/1.1/get/trends/place and\n",
      "# http://developer.yahoo.com/geo/geoplanet/\n",
      "\n",
      "WORLD_WOE_ID = 1\n",
      "US_WOE_ID = 23424977\n",
      "CA_WOE_ID = 23424775\n",
      "\n",
      "# Prefix ID with the underscore for query string parameterization.\n",
      "# Without the underscore, the twitter package appends the ID value\n",
      "# to the URL itself as a special case keyword argument.\n",
      "\n",
      "us_trends = twitter_api.trends.place(_id=US_WOE_ID)\n",
      "canada_trends = twitter_api.trends.place(_id=CA_WOE_ID)\n",
      "\n",
      "us_trends_set = set([trend['name'] for trends in us_trends\n",
      "                     for trend in trends['trends']]) \n",
      "ca_trends_set = set([trend['name'] for trends in canada_trends\n",
      "                     for trend in trends['trends']])\n",
      "\n",
      "c = MongoClient()\n",
      "\n",
      "db = c.lab05\n",
      "\n",
      "%matplotlib inline\n",
      "\n",
      "ca_results = list()\n",
      "ca_only_trends_list = list(ca_trends_set)\n",
      "\n",
      "for trend in enumerate(ca_only_trends_list):\n",
      "    q = str(trend)\n",
      "    print('Trend: '+ q)\n",
      "    count = 100\n",
      "    search_results = twitter_api.search.tweets(q=q, count=count)\n",
      "    statuses = search_results['statuses']\n",
      "    if len(statuses) > 0:\n",
      "        ca_results.extend(statuses)\n",
      "        \n",
      "print(len(ca_results))\n",
      "\n",
      "us_results = list()\n",
      "us_only_trends_list = list(us_trends_set)\n",
      "for trend in enumerate(us_only_trends_list):\n",
      "    q = str(trend)\n",
      "    print('Trend: '+ q)\n",
      "    count = 100\n",
      "    search_results = twitter_api.search.tweets(q=q, count=count)\n",
      "    statuses = search_results['statuses']\n",
      "    if len(statuses) > 0:\n",
      "        us_results.extend(statuses)\n",
      "\n",
      "print(len(us_results))\n",
      "\n",
      "if len(ca_results) > 0:\n",
      "    ca_statuses = db.canada.insert(ca_results)\n",
      "if len(us_results) > 0:\n",
      "    us_statuses = db.us.insert(us_results)"
     ],
     "language": "python",
     "metadata": {},
     "outputs": [
      {
       "output_type": "stream",
       "stream": "stdout",
       "text": [
        "Trend: (0, u'Ric Flair')\n",
        "Trend: (1, u'Columbus')"
       ]
      },
      {
       "output_type": "stream",
       "stream": "stdout",
       "text": [
        "\n",
        "Trend: (2, u'#VoiceTop10')"
       ]
      },
      {
       "output_type": "stream",
       "stream": "stdout",
       "text": [
        "\n",
        "Trend: (3, u'Peter Maher')"
       ]
      },
      {
       "output_type": "stream",
       "stream": "stdout",
       "text": [
        "\n",
        "Trend: (4, u'#WeWereBornForThis')"
       ]
      },
      {
       "output_type": "stream",
       "stream": "stdout",
       "text": [
        "\n",
        "Trend: (5, u'Norma')"
       ]
      },
      {
       "output_type": "stream",
       "stream": "stdout",
       "text": [
        "\n",
        "Trend: (6, u'#BuyProblemOniTunes')"
       ]
      },
      {
       "output_type": "stream",
       "stream": "stdout",
       "text": [
        "\n",
        "Trend: (7, u'#BuyOrdinaryOniTunes')"
       ]
      },
      {
       "output_type": "stream",
       "stream": "stdout",
       "text": [
        "\n",
        "Trend: (8, u'#dontstop')"
       ]
      },
      {
       "output_type": "stream",
       "stream": "stdout",
       "text": [
        "\n",
        "Trend: (9, u'Brie')"
       ]
      },
      {
       "output_type": "stream",
       "stream": "stdout",
       "text": [
        "\n",
        "148"
       ]
      },
      {
       "output_type": "stream",
       "stream": "stdout",
       "text": [
        "\n",
        "Trend: (0, u'#bbwlareunion')\n",
        "Trend: (1, u'#ShieldVsEvolution')"
       ]
      },
      {
       "output_type": "stream",
       "stream": "stdout",
       "text": [
        "\n",
        "Trend: (2, u'#AskTeamJeta')"
       ]
      },
      {
       "output_type": "stream",
       "stream": "stdout",
       "text": [
        "\n",
        "Trend: (3, u'#ordinary')"
       ]
      },
      {
       "output_type": "stream",
       "stream": "stdout",
       "text": [
        "\n",
        "Trend: (4, u'Cinnamon Roll Pancake')"
       ]
      },
      {
       "output_type": "stream",
       "stream": "stdout",
       "text": [
        "\n",
        "Trend: (5, u'Tuscaloosa')"
       ]
      },
      {
       "output_type": "stream",
       "stream": "stdout",
       "text": [
        "\n",
        "Trend: (6, u'James Spann')"
       ]
      },
      {
       "output_type": "stream",
       "stream": "stdout",
       "text": [
        "\n",
        "Trend: (7, u'#BuyOrdinaryOniTunes')"
       ]
      },
      {
       "output_type": "stream",
       "stream": "stdout",
       "text": [
        "\n",
        "Trend: (8, u'Carlos Santana')"
       ]
      },
      {
       "output_type": "stream",
       "stream": "stdout",
       "text": [
        "\n",
        "Trend: (9, u'Sonny Gray')"
       ]
      },
      {
       "output_type": "stream",
       "stream": "stdout",
       "text": [
        "\n",
        "12"
       ]
      },
      {
       "output_type": "stream",
       "stream": "stdout",
       "text": [
        "\n"
       ]
      }
     ],
     "prompt_number": 1
    },
    {
     "cell_type": "code",
     "collapsed": false,
     "input": [
      "#Create a histogram of text_len within each group. Use alpha = 0.5 to overlay them.\n",
      "#pprint(ca_results[:5])\n",
      "\n",
      "\n",
      "us_df = pd.DataFrame({'text_len': len(tweet['text'])} for tweet in us_results)\n",
      "ca_df = pd.DataFrame({'text_len': len(tweet['text'])} for tweet in ca_results)\n",
      "\n",
      "#us_df.describe()\n",
      "#ca_df.describe()\n",
      "\n",
      "us_df.hist(alpha=0.5)\n",
      "ca_df.hist(alpha=0.5)\n",
      "plt.show()\n",
      "\n",
      "#Compute the sample mean and standard deviation in the two groups.\n",
      "\n",
      "print(us_df.mean())\n",
      "print(ca_df.mean())\n",
      "\n",
      "print(us_df.std())\n",
      "print(ca_df.std())\n",
      "\n",
      "#Create a DataFrame concatenating data from each collection adding a country column to distinguish US from Canada.\n",
      "ca_text_len = ca_df.ix[:,0]\n",
      "us_text_len = us_df.ix[:,0]\n",
      "\n",
      "text_len_df = pd.concat([pd.DataFrame({'text_len': ca_text_len, 'country': 'CA'}), \n",
      "                          pd.DataFrame({'text_len': us_text_len, 'country': 'US'})])\n",
      "\n",
      "#Use this DataFrame to create a boxplot of the text_len by country.\n",
      "text_len_df.boxplot(column='text_len', by='country')\n",
      "\n",
      "#Use OLS to compute a 90% confidence interval for the difference in text_len between the two groups. \n",
      "#Name a problem with describing the confidence interval of tweet length in this way.\n",
      "mod = sm.OLS.from_formula(\"text_len ~ country\", text_len_df)\n",
      "res = mod.fit()\n",
      "print res.summary(alpha = .1)\n",
      "\n",
      "#At level \u03b1=5%, test the null hypothesis that the average text length does not differ between the two groups. \n",
      "#What can you conclude?\n",
      "print('P=0.615 thus fail to reject the null hypothesis at alpha = 0.05')\n",
      "\n",
      "us_rt_df = pd.DataFrame({'retweet_count': tweet['retweet_count']} for tweet in us_results)\n",
      "ca_rt_df = pd.DataFrame({'retweet_count': tweet['retweet_count']} for tweet in ca_results)\n",
      "\n",
      "us_rt_df.hist(alpha=0.5)\n",
      "ca_rt_df.hist(alpha=0.5)\n",
      "plt.show()\n",
      "\n",
      "#Compute the sample mean and standard deviation in the two groups.\n",
      "\n",
      "print(us_rt_df.mean())\n",
      "print(ca_rt_df.mean())\n",
      "\n",
      "print(us_rt_df.std())\n",
      "print(ca_rt_df.std())\n",
      "\n",
      "#Create a DataFrame concatenating data from each collection adding a country column to distinguish US from Canada.\n",
      "ca_retweet_count = ca_rt_df.ix[:,0]\n",
      "us_retweet_count = us_rt_df.ix[:,0]\n",
      "\n",
      "retweet_count_df = pd.concat([pd.DataFrame({'retweet_count': ca_retweet_count, 'country': 'CA'}), \n",
      "                          pd.DataFrame({'retweet_count': us_retweet_count, 'country': 'US'})])\n",
      "\n",
      "#Use this DataFrame to create a boxplot of the text_len by country.\n",
      "retweet_count_df.boxplot(column='retweet_count', by='country')\n",
      "\n",
      "#Use OLS to compute a 90% confidence interval for the difference in text_len between the two groups. \n",
      "#Name a problem with describing the confidence interval of tweet length in this way.\n",
      "mod = sm.OLS.from_formula(\"retweet_count ~ country\", retweet_count_df)\n",
      "res = mod.fit()\n",
      "print res.summary(alpha = .1)"
     ],
     "language": "python",
     "metadata": {},
     "outputs": [
      {
       "metadata": {},
       "output_type": "display_data",
       "png": "[encoded data removed]",
       "text": [
        "<matplotlib.figure.Figure at 0x10d4db350>"
       ]
      },
      {
       "metadata": {},
       "output_type": "display_data",
       "png": "[encoded data removed]",
       "text": [
        "<matplotlib.figure.Figure at 0x10d4db790>"
       ]
      },
      {
       "output_type": "stream",
       "stream": "stdout",
       "text": [
        "text_len    129.833333\n",
        "dtype: float64\n",
        "text_len    126.574324\n",
        "dtype: float64\n",
        "text_len    11.876894\n",
        "dtype: float64\n",
        "text_len    22.115372\n",
        "dtype: float64\n",
        "                            OLS Regression Results                            \n",
        "==============================================================================\n",
        "Dep. Variable:               text_len   R-squared:                       0.002\n",
        "Model:                            OLS   Adj. R-squared:                 -0.005\n",
        "Method:                 Least Squares   F-statistic:                    0.2536\n",
        "Date:                Mon, 28 Apr 2014   Prob (F-statistic):              0.615\n",
        "Time:                        21:28:25   Log-Likelihood:                -717.36\n",
        "No. Observations:                 160   AIC:                             1439.\n",
        "Df Residuals:                     158   BIC:                             1445.\n",
        "Df Model:                           1                                         \n",
        "=================================================================================\n",
        "                    coef    std err          t      P>|t|      [90.0% Conf. Int.]\n",
        "---------------------------------------------------------------------------------\n",
        "Intercept       126.5743      1.772     71.419      0.000       123.642   129.507\n",
        "country[T.US]     3.2590      6.471      0.504      0.615        -7.448    13.966\n",
        "==============================================================================\n",
        "Omnibus:                       85.313   Durbin-Watson:                   1.276\n",
        "Prob(Omnibus):                  0.000   Jarque-Bera (JB):              278.487\n",
        "Skew:                          -2.222   Prob(JB):                     3.37e-61\n",
        "Kurtosis:                       7.693   Cond. No.                         3.82\n",
        "=============================================================================="
       ]
      },
      {
       "output_type": "stream",
       "stream": "stdout",
       "text": [
        "\n",
        "P=0.615 thus fail to reject the null hypothesis at alpha = 0.05\n"
       ]
      },
      {
       "metadata": {},
       "output_type": "display_data",
       "png": "[encoded data removed]",
       "text": [
        "<matplotlib.figure.Figure at 0x10d223490>"
       ]
      },
      {
       "metadata": {},
       "output_type": "display_data",
       "png": "[encoded data removed]",
       "text": [
        "<matplotlib.figure.Figure at 0x10d2a0a10>"
       ]
      },
      {
       "metadata": {},
       "output_type": "display_data",
       "png": "[encoded data removed]",
       "text": [
        "<matplotlib.figure.Figure at 0x10d2a0b10>"
       ]
      },
      {
       "output_type": "stream",
       "stream": "stdout",
       "text": [
        "retweet_count    0.5\n",
        "dtype: float64\n",
        "retweet_count    83.277027\n",
        "dtype: float64\n",
        "retweet_count    0.904534\n",
        "dtype: float64\n",
        "retweet_count    523.080941\n",
        "dtype: float64\n",
        "                            OLS Regression Results                            \n",
        "==============================================================================\n",
        "Dep. Variable:          retweet_count   R-squared:                       0.002\n",
        "Model:                            OLS   Adj. R-squared:                 -0.004\n",
        "Method:                 Least Squares   F-statistic:                    0.2988\n",
        "Date:                Mon, 28 Apr 2014   Prob (F-statistic):              0.585\n",
        "Time:                        21:28:26   Log-Likelihood:                -1221.8\n",
        "No. Observations:                 160   AIC:                             2448.\n",
        "Df Residuals:                     158   BIC:                             2454.\n",
        "Df Model:                           1                                         \n",
        "=================================================================================\n",
        "                    coef    std err          t      P>|t|      [90.0% Conf. Int.]\n",
        "---------------------------------------------------------------------------------\n",
        "Intercept        83.2770     41.473      2.008      0.046        14.657   151.897\n",
        "country[T.US]   -82.7770    151.439     -0.547      0.585      -333.341   167.787\n",
        "==============================================================================\n",
        "Omnibus:                      248.822   Durbin-Watson:                   1.253\n",
        "Prob(Omnibus):                  0.000   Jarque-Bera (JB):            17228.297\n",
        "Skew:                           7.031   Prob(JB):                         0.00\n",
        "Kurtosis:                      51.852   Cond. No.                         3.82\n",
        "=============================================================================="
       ]
      },
      {
       "output_type": "stream",
       "stream": "stdout",
       "text": [
        "\n"
       ]
      },
      {
       "metadata": {},
       "output_type": "display_data",
       "png": "[encoded data removed]",
       "text": [
        "<matplotlib.figure.Figure at 0x10dc96f90>"
       ]
      }
     ],
     "prompt_number": 53
    },
    {
     "cell_type": "markdown",
     "metadata": {},
     "source": [
      "---"
     ]
    },
    {
     "cell_type": "markdown",
     "metadata": {
      "slideshow": {
       "slide_type": "slide"
      }
     },
     "source": [
      "Homework\n",
      "========\n",
      "\n",
      "Use `enron.db` from last week.\n",
      "\n",
      "1. Create a boxplot of the message recipient count (`MAX(rno)`), splitting the data based on the `seniority` of the sender.\n",
      "\n",
      "2. Compute the sample mean and standard deviation in the two groups.\n",
      "\n",
      "3. Create a histogram of the recipient count within each group.\n",
      "\n",
      "4. Compute a 90% confidence interval for the difference in supervisor performance between the two groups. What is a problem with this? How might you fix it?\n",
      "\n",
      "5. At level $\\alpha=5\\%$, test the null hypothesis that the average supervisor performance does not differ between the two groups. What assumptions are you making? What can you conclude?\n",
      "\n",
      "6. Repeat the test in 5. using `OLS`."
     ]
    },
    {
     "cell_type": "code",
     "collapsed": false,
     "input": [
      "# standard library:\n",
      "import os  \n",
      "\n",
      "from pprint import pprint\n",
      "\n",
      "# other modules:\n",
      "import matplotlib.pyplot as plt\n",
      "import pandas as pd\n",
      "import numpy as np\n",
      "import sqlite3\n",
      "from pandas.io import sql\n",
      "conn = sqlite3.connect('enron.db')\n",
      "\n",
      "from pymongo import MongoClient\n",
      "%matplotlib inline"
     ],
     "language": "python",
     "metadata": {},
     "outputs": [],
     "prompt_number": 11
    },
    {
     "cell_type": "code",
     "collapsed": false,
     "input": [
      "%%bash\n",
      "sqlite3 enron.db .tables"
     ],
     "language": "python",
     "metadata": {},
     "outputs": [
      {
       "output_type": "stream",
       "stream": "stdout",
       "text": [
        "Employee          EmployeeWithVars  MessageBase       RecipientBase   \n",
        "EmployeeBase      Message           Recipient       \n"
       ]
      }
     ],
     "prompt_number": 8
    },
    {
     "cell_type": "code",
     "collapsed": false,
     "input": [
      "%%sql sqlite:///enron.db\n",
      "SELECT * FROM RecipientBase LIMIT 5"
     ],
     "language": "python",
     "metadata": {},
     "outputs": [
      {
       "output_type": "stream",
       "stream": "stdout",
       "text": [
        "Done.\n"
       ]
      },
      {
       "html": [
        "<table>\n",
        "    <tr>\n",
        "        <th>mid</th>\n",
        "        <th>rno</th>\n",
        "        <th>to_eid</th>\n",
        "    </tr>\n",
        "    <tr>\n",
        "        <td>1</td>\n",
        "        <td>1</td>\n",
        "        <td>59</td>\n",
        "    </tr>\n",
        "    <tr>\n",
        "        <td>2</td>\n",
        "        <td>1</td>\n",
        "        <td>15</td>\n",
        "    </tr>\n",
        "    <tr>\n",
        "        <td>3</td>\n",
        "        <td>1</td>\n",
        "        <td>15</td>\n",
        "    </tr>\n",
        "    <tr>\n",
        "        <td>4</td>\n",
        "        <td>1</td>\n",
        "        <td>109</td>\n",
        "    </tr>\n",
        "    <tr>\n",
        "        <td>4</td>\n",
        "        <td>2</td>\n",
        "        <td>49</td>\n",
        "    </tr>\n",
        "</table>"
       ],
       "metadata": {},
       "output_type": "pyout",
       "prompt_number": 16,
       "text": [
        "[(1, 1, 59), (2, 1, 15), (3, 1, 15), (4, 1, 109), (4, 2, 49)]"
       ]
      }
     ],
     "prompt_number": 16
    },
    {
     "cell_type": "code",
     "collapsed": false,
     "input": [
      "#Create a boxplot of the message recipient count (MAX(rno)), splitting the data based on the seniority of the sender.\n",
      "senior_max = sql.frame_query(\"\"\"SELECT rno as recipient_count, eid, seniority, from_eid, mid\n",
      "                FROM EmployeeBase JOIN MessageBase ON eid = from_eid\n",
      "                JOIN RecipientBase USING(mid)\n",
      "                WHERE seniority = 'Senior'\"\"\", conn, \"eid\")\n",
      "junior_max = sql.frame_query(\"\"\"SELECT rno as recipient_count, eid, seniority, from_eid, mid\n",
      "                FROM EmployeeBase JOIN MessageBase ON eid = from_eid\n",
      "                JOIN RecipientBase USING(mid)\n",
      "                WHERE seniority = 'Junior'\"\"\", conn, \"eid\")\n",
      "senior_max.head()\n",
      "print senior_max.count()\n",
      "junior_max.head()\n",
      "print junior_max.count()\n",
      "#TODO: Generate create data frames from query results and plot box plots"
     ],
     "language": "python",
     "metadata": {},
     "outputs": [
      {
       "output_type": "stream",
       "stream": "stdout",
       "text": [
        "recipient_count    22490\n",
        "seniority          22490\n",
        "from_eid           22490\n",
        "mid                22490\n",
        "dtype: int64\n",
        "recipient_count    15898\n",
        "seniority          15898\n",
        "from_eid           15898\n",
        "mid                15898\n",
        "dtype: int64\n"
       ]
      }
     ],
     "prompt_number": 28
    },
    {
     "cell_type": "code",
     "collapsed": false,
     "input": [
      "max_df = pd.concat([pd.DataFrame({'retweet_count': ca_retweet_count, 'country': 'CA'}), \n",
      "                          pd.DataFrame({'retweet_count': us_retweet_count, 'country': 'US'})])"
     ],
     "language": "python",
     "metadata": {},
     "outputs": []
    }
   ],
   "metadata": {}
  }
 ]
}